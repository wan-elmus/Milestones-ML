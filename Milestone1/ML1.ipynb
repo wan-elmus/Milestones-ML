{
 "cells": [
  {
   "cell_type": "code",
   "execution_count": 30,
   "metadata": {},
   "outputs": [],
   "source": [
    "# ! pip install pandas matplotlib seaborn numpy plotly"
   ]
  },
  {
   "cell_type": "markdown",
   "metadata": {},
   "source": [
    "## Import Libraries"
   ]
  },
  {
   "cell_type": "code",
   "execution_count": 31,
   "metadata": {},
   "outputs": [],
   "source": [
    "import pandas as pd\n",
    "import matplotlib.pyplot as plt\n",
    "import seaborn as sns\n",
    "import numpy as np\n",
    "import plotly.express as px"
   ]
  },
  {
   "cell_type": "markdown",
   "metadata": {},
   "source": [
    "## Load dataset"
   ]
  },
  {
   "cell_type": "code",
   "execution_count": 32,
   "metadata": {},
   "outputs": [
    {
     "data": {
      "text/html": [
       "<div>\n",
       "<style scoped>\n",
       "    .dataframe tbody tr th:only-of-type {\n",
       "        vertical-align: middle;\n",
       "    }\n",
       "\n",
       "    .dataframe tbody tr th {\n",
       "        vertical-align: top;\n",
       "    }\n",
       "\n",
       "    .dataframe thead th {\n",
       "        text-align: right;\n",
       "    }\n",
       "</style>\n",
       "<table border=\"1\" class=\"dataframe\">\n",
       "  <thead>\n",
       "    <tr style=\"text-align: right;\">\n",
       "      <th></th>\n",
       "      <th>work_year</th>\n",
       "      <th>experience_level</th>\n",
       "      <th>employment_type</th>\n",
       "      <th>job_title</th>\n",
       "      <th>salary</th>\n",
       "      <th>salary_currency</th>\n",
       "      <th>salary_in_usd</th>\n",
       "      <th>employee_residence</th>\n",
       "      <th>remote_ratio</th>\n",
       "      <th>company_location</th>\n",
       "      <th>company_size</th>\n",
       "    </tr>\n",
       "  </thead>\n",
       "  <tbody>\n",
       "    <tr>\n",
       "      <th>563</th>\n",
       "      <td>2022</td>\n",
       "      <td>SE</td>\n",
       "      <td>CT</td>\n",
       "      <td>Application Security Engineer</td>\n",
       "      <td>200000</td>\n",
       "      <td>USD</td>\n",
       "      <td>200000</td>\n",
       "      <td>BR</td>\n",
       "      <td>100</td>\n",
       "      <td>CA</td>\n",
       "      <td>L</td>\n",
       "    </tr>\n",
       "    <tr>\n",
       "      <th>755</th>\n",
       "      <td>2022</td>\n",
       "      <td>MI</td>\n",
       "      <td>FT</td>\n",
       "      <td>Information Security Engineer</td>\n",
       "      <td>130000</td>\n",
       "      <td>USD</td>\n",
       "      <td>130000</td>\n",
       "      <td>US</td>\n",
       "      <td>100</td>\n",
       "      <td>US</td>\n",
       "      <td>L</td>\n",
       "    </tr>\n",
       "    <tr>\n",
       "      <th>1172</th>\n",
       "      <td>2020</td>\n",
       "      <td>MI</td>\n",
       "      <td>FT</td>\n",
       "      <td>Cyber Security Specialist</td>\n",
       "      <td>105000</td>\n",
       "      <td>AUD</td>\n",
       "      <td>72317</td>\n",
       "      <td>AU</td>\n",
       "      <td>0</td>\n",
       "      <td>AU</td>\n",
       "      <td>L</td>\n",
       "    </tr>\n",
       "    <tr>\n",
       "      <th>416</th>\n",
       "      <td>2022</td>\n",
       "      <td>SE</td>\n",
       "      <td>FT</td>\n",
       "      <td>Security Engineer</td>\n",
       "      <td>200100</td>\n",
       "      <td>USD</td>\n",
       "      <td>200100</td>\n",
       "      <td>US</td>\n",
       "      <td>100</td>\n",
       "      <td>US</td>\n",
       "      <td>M</td>\n",
       "    </tr>\n",
       "    <tr>\n",
       "      <th>392</th>\n",
       "      <td>2022</td>\n",
       "      <td>MI</td>\n",
       "      <td>FT</td>\n",
       "      <td>Security Analyst</td>\n",
       "      <td>60000</td>\n",
       "      <td>USD</td>\n",
       "      <td>60000</td>\n",
       "      <td>US</td>\n",
       "      <td>100</td>\n",
       "      <td>US</td>\n",
       "      <td>M</td>\n",
       "    </tr>\n",
       "  </tbody>\n",
       "</table>\n",
       "</div>"
      ],
      "text/plain": [
       "      work_year experience_level employment_type  \\\n",
       "563        2022               SE              CT   \n",
       "755        2022               MI              FT   \n",
       "1172       2020               MI              FT   \n",
       "416        2022               SE              FT   \n",
       "392        2022               MI              FT   \n",
       "\n",
       "                          job_title  salary salary_currency  salary_in_usd  \\\n",
       "563   Application Security Engineer  200000             USD         200000   \n",
       "755   Information Security Engineer  130000             USD         130000   \n",
       "1172      Cyber Security Specialist  105000             AUD          72317   \n",
       "416               Security Engineer  200100             USD         200100   \n",
       "392                Security Analyst   60000             USD          60000   \n",
       "\n",
       "     employee_residence  remote_ratio company_location company_size  \n",
       "563                  BR           100               CA            L  \n",
       "755                  US           100               US            L  \n",
       "1172                 AU             0               AU            L  \n",
       "416                  US           100               US            M  \n",
       "392                  US           100               US            M  "
      ]
     },
     "execution_count": 32,
     "metadata": {},
     "output_type": "execute_result"
    }
   ],
   "source": [
    "df = pd.read_csv('Cyber_salaries.csv')\n",
    "df.sample(5)"
   ]
  },
  {
   "cell_type": "markdown",
   "metadata": {},
   "source": [
    "## Filtering to broaden the view of the data"
   ]
  },
  {
   "cell_type": "code",
   "execution_count": 33,
   "metadata": {},
   "outputs": [
    {
     "data": {
      "text/plain": [
       "company_size\n",
       "L    798\n",
       "M    459\n",
       "S     92\n",
       "Name: count, dtype: int64"
      ]
     },
     "execution_count": 33,
     "metadata": {},
     "output_type": "execute_result"
    }
   ],
   "source": [
    "df['company_size'].value_counts()"
   ]
  },
  {
   "cell_type": "code",
   "execution_count": 34,
   "metadata": {},
   "outputs": [
    {
     "data": {
      "text/plain": [
       "salary_currency\n",
       "USD    1026\n",
       "EUR     133\n",
       "GBP      60\n",
       "CAD      39\n",
       "INR      23\n",
       "AUD      18\n",
       "BRL      12\n",
       "CHF       9\n",
       "NZD       5\n",
       "PLN       4\n",
       "DKK       4\n",
       "ZAR       3\n",
       "SEK       3\n",
       "ILS       2\n",
       "SGD       2\n",
       "NOK       1\n",
       "IDR       1\n",
       "MXN       1\n",
       "HUF       1\n",
       "TWD       1\n",
       "RUB       1\n",
       "Name: count, dtype: int64"
      ]
     },
     "execution_count": 34,
     "metadata": {},
     "output_type": "execute_result"
    }
   ],
   "source": [
    "df['salary_currency'].value_counts()"
   ]
  },
  {
   "cell_type": "code",
   "execution_count": 35,
   "metadata": {},
   "outputs": [
    {
     "data": {
      "text/plain": [
       "employment_type\n",
       "FT    1326\n",
       "CT      11\n",
       "PT       9\n",
       "FL       3\n",
       "Name: count, dtype: int64"
      ]
     },
     "execution_count": 35,
     "metadata": {},
     "output_type": "execute_result"
    }
   ],
   "source": [
    "df['employment_type'].value_counts()"
   ]
  },
  {
   "cell_type": "code",
   "execution_count": 36,
   "metadata": {},
   "outputs": [
    {
     "data": {
      "text/plain": [
       "experience_level\n",
       "SE    622\n",
       "MI    433\n",
       "EN    218\n",
       "EX     76\n",
       "Name: count, dtype: int64"
      ]
     },
     "execution_count": 36,
     "metadata": {},
     "output_type": "execute_result"
    }
   ],
   "source": [
    "df['experience_level'].value_counts()"
   ]
  },
  {
   "cell_type": "code",
   "execution_count": 37,
   "metadata": {},
   "outputs": [
    {
     "name": "stdout",
     "output_type": "stream",
     "text": [
      "<class 'pandas.core.frame.DataFrame'>\n",
      "RangeIndex: 1349 entries, 0 to 1348\n",
      "Data columns (total 11 columns):\n",
      " #   Column              Non-Null Count  Dtype \n",
      "---  ------              --------------  ----- \n",
      " 0   work_year           1349 non-null   int64 \n",
      " 1   experience_level    1349 non-null   object\n",
      " 2   employment_type     1349 non-null   object\n",
      " 3   job_title           1349 non-null   object\n",
      " 4   salary              1349 non-null   int64 \n",
      " 5   salary_currency     1349 non-null   object\n",
      " 6   salary_in_usd       1349 non-null   int64 \n",
      " 7   employee_residence  1349 non-null   object\n",
      " 8   remote_ratio        1349 non-null   int64 \n",
      " 9   company_location    1349 non-null   object\n",
      " 10  company_size        1349 non-null   object\n",
      "dtypes: int64(4), object(7)\n",
      "memory usage: 116.1+ KB\n"
     ]
    }
   ],
   "source": [
    "df.info()"
   ]
  },
  {
   "cell_type": "markdown",
   "metadata": {},
   "source": [
    "## Check for outliers in numeric columns"
   ]
  },
  {
   "cell_type": "code",
   "execution_count": 38,
   "metadata": {},
   "outputs": [
    {
     "name": "stdout",
     "output_type": "stream",
     "text": [
      "Index(['work_year', 'salary', 'salary_in_usd', 'remote_ratio'], dtype='object')\n"
     ]
    },
    {
     "data": {
      "image/png": "[encoded data removed]",
      "text/plain": [
       "<Figure size 640x480 with 1 Axes>"
      ]
     },
     "metadata": {},
     "output_type": "display_data"
    }
   ],
   "source": [
    "numeric_columns = df.select_dtypes(include=np.number).columns\n",
    "print(numeric_columns)\n",
    "sns.boxplot(data=df[numeric_columns])\n",
    "plt.title(\"Boxplot of Numeric Columns\")\n",
    "plt.show()"
   ]
  },
  {
   "cell_type": "markdown",
   "metadata": {},
   "source": [
    "A minute - very minimal or zero actually - presence of outliers in salary and salar_in_usd columns"
   ]
  },
  {
   "cell_type": "markdown",
   "metadata": {},
   "source": [
    "## Check for missing values"
   ]
  },
  {
   "cell_type": "code",
   "execution_count": 39,
   "metadata": {},
   "outputs": [
    {
     "name": "stdout",
     "output_type": "stream",
     "text": [
      "\n",
      "Missing Values:\n",
      " work_year             0\n",
      "experience_level      0\n",
      "employment_type       0\n",
      "job_title             0\n",
      "salary                0\n",
      "salary_currency       0\n",
      "salary_in_usd         0\n",
      "employee_residence    0\n",
      "remote_ratio          0\n",
      "company_location      0\n",
      "company_size          0\n",
      "dtype: int64\n"
     ]
    }
   ],
   "source": [
    "missing_values = df.isnull().sum()\n",
    "print(\"\\nMissing Values:\\n\", missing_values)"
   ]
  },
  {
   "cell_type": "markdown",
   "metadata": {},
   "source": [
    "## Visualizations"
   ]
  },
  {
   "cell_type": "markdown",
   "metadata": {},
   "source": [
    "## Boxplot to show Salary distribution by Job Title and Experience Level"
   ]
  },
  {
   "cell_type": "code",
   "execution_count": 40,
   "metadata": {},
   "outputs": [
    {
     "data": {
      "image/png": "[encoded data removed]",
      "text/plain": [
       "<Figure size 1200x800 with 1 Axes>"
      ]
     },
     "metadata": {},
     "output_type": "display_data"
    }
   ],
   "source": [
    "# show top 5 most common job titles)\n",
    "top_job_titles = df['job_title'].value_counts().nlargest(5).index\n",
    "filtered_data = df[df['job_title'].isin(top_job_titles)]\n",
    "\n",
    "# Create the boxplot\n",
    "plt.figure(figsize=(12, 8))\n",
    "sns.boxplot(x=\"experience_level\", y=\"salary_in_usd\", hue=\"job_title\", data=filtered_data)\n",
    "plt.title(\"Salary Distribution by Job Title and Experience Level\")\n",
    "plt.xlabel(\"Experience Level\")\n",
    "plt.ylabel(\"Salary (USD)\")\n",
    "plt.legend(loc='upper right', bbox_to_anchor=(1.25, 1))\n",
    "plt.show()"
   ]
  },
  {
   "cell_type": "markdown",
   "metadata": {},
   "source": [
    "## Salary trend over years"
   ]
  },
  {
   "cell_type": "code",
   "execution_count": 41,
   "metadata": {},
   "outputs": [
    {
     "data": {
      "image/png": "[encoded data removed]",
      "text/plain": [
       "<Figure size 1200x600 with 1 Axes>"
      ]
     },
     "metadata": {},
     "output_type": "display_data"
    }
   ],
   "source": [
    "avg_salary_by_year = df.groupby(\"work_year\")[\"salary_in_usd\"].mean()\n",
    "plt.figure(figsize=(12, 6))\n",
    "avg_salary_by_year.plot(marker='o')\n",
    "plt.title(\"Average Salary Trend Over Years\")\n",
    "plt.xlabel(\"Year\")\n",
    "plt.ylabel(\"Average Salary (USD)\")\n",
    "plt.grid(True)\n",
    "plt.show()"
   ]
  },
  {
   "cell_type": "markdown",
   "metadata": {},
   "source": [
    "## Scatterplot to show remote working ratio vs salary"
   ]
  },
  {
   "cell_type": "code",
   "execution_count": 42,
   "metadata": {},
   "outputs": [
    {
     "data": {
      "image/png": "[encoded data removed]",
      "text/plain": [
       "<Figure size 1000x600 with 1 Axes>"
      ]
     },
     "metadata": {},
     "output_type": "display_data"
    }
   ],
   "source": [
    "plt.figure(figsize=(10, 6))\n",
    "sns.scatterplot(x=\"remote_ratio\", y=\"salary_in_usd\", data=df)\n",
    "plt.title(\"Remote Working Ratio vs. Salary\")\n",
    "plt.xlabel(\"Remote Working Ratio\")\n",
    "plt.ylabel(\"Salary (USD)\")\n",
    "plt.show()"
   ]
  },
  {
   "cell_type": "markdown",
   "metadata": {},
   "source": [
    "## company size vs salary"
   ]
  },
  {
   "cell_type": "code",
   "execution_count": 43,
   "metadata": {},
   "outputs": [
    {
     "data": {
      "application/vnd.plotly.v1+json": {
       "config": {
        "plotlyServerURL": "https://plot.ly"
       },
       "data": [
        {
         "alignmentgroup": "True",
         "boxpoints": "all",
         "hovertemplate": "company_size=%{x}<br>salary_in_usd=%{y}<extra></extra>",
         "legendgroup": "",
         "marker": {
          "color": "#636efa"
         },
         "name": "",
         "notched": false,
         "offsetgroup": "",
         "orientation": "v",
         "showlegend": false,
         "type": "box",
         "x": [
          "S",
          "M",
          "M",
          "M",
          "M",
          "L",
          "M",
          "M",
          "M",
          "M",
          "M",
          "M",
          "M",
          "M",
          "M",
          "M",
          "M",
          "M",
          "M",
          "M",
          "S",
          "M",
          "M",
          "M",
          "M",
          "M",
          "M",
          "L",
          "L",
          "L",
          "M",
          "M",
          "M",
          "M",
          "M",
          "M",
          "M",
          "M",
          "M",
          "M",
          "M",
          "M",
          "M",
          "M",
          "M",
          "M",
          "M",
          "M",
          "M",
          "M",
          "M",
          "M",
          "M",
          "L",
          "S",
          "M",
          "M",
          "M",
          "M",
          "L",
          "L",
          "L",
          "L",
          "L",
          "M",
          "M",
          "L",
          "M",
          "M",
          "M",
          "L",
          "L",
          "L",
          "L",
          "M",
          "M",
          "L",
          "L",
          "M",
          "M",
          "L",
          "L",
          "M",
          "M",
          "M",
          "L",
          "L",
          "L",
          "L",
          "M",
          "M",
          "L",
          "M",
          "M",
          "M",
          "M",
          "M",
          "M",
          "M",
          "M",
          "M",
          "M",
          "S",
          "M",
          "M",
          "L",
          "S",
          "L",
          "M",
          "M",
          "L",
          "L",
          "S",
          "L",
          "L",
          "S",
          "L",
          "L",
          "L",
          "L",
          "L",
          "M",
          "L",
          "L",
          "M",
          "M",
          "M",
          "L",
          "L",
          "L",
          "L",
          "L",
          "L",
          "L",
          "M",
          "L",
          "L",
          "M",
          "L",
          "L",
          "L",
          "L",
          "L",
          "S",
          "L",
          "L",
          "L",
          "L",
          "L",
          "L",
          "L",
          "M",
          "L",
          "S",
          "M",
          "M",
          "L",
          "M",
          "M",
          "L",
          "L",
          "L",
          "M",
          "M",
          "M",
          "M",
          "L",
          "M",
          "M",
          "L",
          "L",
          "M",
          "M",
          "L",
          "L",
          "L",
          "M",
          "M",
          "L",
          "L",
          "L",
          "L",
          "L",
          "M",
          "M",
          "M",
          "M",
          "M",
          "M",
          "L",
          "M",
          "M",
          "M",
          "L",
          "L",
          "L",
          "M",
          "M",
          "M",
          "M",
          "L",
          "L",
          "S",
          "L",
          "L",
          "M",
          "M",
          "M",
          "M",
          "M",
          "M",
          "L",
          "M",
          "M",
          "L",
          "M",
          "M",
          "L",
          "L",
          "L",
          "L",
          "S",
          "M",
          "L",
          "M",
          "M",
          "M",
          "M",
          "S",
          "L",
          "L",
          "L",
          "L",
          "L",
          "L",
          "M",
          "M",
          "M",
          "M",
          "M",
          "M",
          "M",
          "M",
          "M",
          "M",
          "L",
          "L",
          "S",
          "L",
          "L",
          "L",
          "L",
          "L",
          "M",
          "M",
          "M",
          "M",
          "M",
          "M",
          "M",
          "L",
          "L",
          "L",
          "L",
          "L",
          "M",
          "M",
          "M",
          "M",
          "L",
          "L",
          "M",
          "M",
          "M",
          "M",
          "M",
          "M",
          "M",
          "M",
          "M",
          "M",
          "L",
          "M",
          "M",
          "M",
          "M",
          "M",
          "M",
          "M",
          "M",
          "L",
          "L",
          "M",
          "M",
          "M",
          "M",
          "M",
          "M",
          "M",
          "M",
          "M",
          "M",
          "M",
          "M",
          "M",
          "M",
          "M",
          "M",
          "M",
          "M",
          "L",
          "L",
          "M",
          "M",
          "M",
          "M",
          "M",
          "M",
          "M",
          "M",
          "M",
          "M",
          "M",
          "M",
          "M",
          "M",
          "M",
          "M",
          "M",
          "M",
          "M",
          "M",
          "M",
          "M",
          "M",
          "M",
          "M",
          "M",
          "M",
          "M",
          "M",
          "M",
          "L",
          "L",
          "M",
          "M",
          "M",
          "M",
          "M",
          "M",
          "M",
          "M",
          "M",
          "M",
          "M",
          "M",
          "M",
          "M",
          "M",
          "M",
          "M",
          "M",
          "M",
          "M",
          "M",
          "M",
          "M",
          "M",
          "M",
          "M",
          "M",
          "M",
          "M",
          "M",
          "M",
          "M",
          "M",
          "M",
          "M",
          "M",
          "M",
          "M",
          "M",
          "M",
          "M",
          "M",
          "M",
          "M",
          "S",
          "S",
          "M",
          "M",
          "M",
          "M",
          "M",
          "M",
          "M",
          "M",
          "M",
          "M",
          "M",
          "M",
          "M",
          "M",
          "M",
          "M",
          "M",
          "M",
          "M",
          "M",
          "M",
          "M",
          "M",
          "M",
          "M",
          "M",
          "M",
          "M",
          "M",
          "M",
          "M",
          "M",
          "M",
          "M",
          "M",
          "M",
          "M",
          "M",
          "M",
          "M",
          "M",
          "M",
          "M",
          "M",
          "M",
          "M",
          "M",
          "M",
          "M",
          "M",
          "M",
          "M",
          "M",
          "M",
          "M",
          "M",
          "M",
          "M",
          "M",
          "M",
          "M",
          "M",
          "M",
          "M",
          "L",
          "L",
          "L",
          "L",
          "M",
          "M",
          "L",
          "S",
          "L",
          "L",
          "L",
          "S",
          "L",
          "M",
          "L",
          "S",
          "L",
          "L",
          "L",
          "L",
          "L",
          "L",
          "L",
          "L",
          "L",
          "M",
          "S",
          "L",
          "S",
          "L",
          "L",
          "S",
          "L",
          "L",
          "L",
          "M",
          "L",
          "L",
          "L",
          "L",
          "L",
          "L",
          "M",
          "L",
          "M",
          "L",
          "L",
          "L",
          "L",
          "S",
          "L",
          "L",
          "L",
          "L",
          "L",
          "M",
          "M",
          "M",
          "L",
          "L",
          "L",
          "M",
          "M",
          "L",
          "L",
          "L",
          "L",
          "L",
          "L",
          "L",
          "M",
          "L",
          "L",
          "L",
          "L",
          "L",
          "L",
          "L",
          "L",
          "L",
          "L",
          "L",
          "M",
          "L",
          "S",
          "M",
          "L",
          "L",
          "L",
          "L",
          "L",
          "L",
          "S",
          "L",
          "L",
          "L",
          "L",
          "L",
          "L",
          "L",
          "L",
          "M",
          "L",
          "L",
          "L",
          "M",
          "M",
          "L",
          "L",
          "L",
          "M",
          "L",
          "L",
          "S",
          "L",
          "L",
          "L",
          "L",
          "L",
          "L",
          "L",
          "L",
          "L",
          "L",
          "M",
          "M",
          "S",
          "L",
          "L",
          "S",
          "L",
          "L",
          "L",
          "L",
          "L",
          "L",
          "L",
          "S",
          "S",
          "L",
          "L",
          "M",
          "M",
          "L",
          "M",
          "L",
          "L",
          "L",
          "L",
          "L",
          "L",
          "M",
          "L",
          "L",
          "M",
          "L",
          "L",
          "M",
          "L",
          "L",
          "L",
          "L",
          "L",
          "M",
          "L",
          "L",
          "L",
          "L",
          "S",
          "L",
          "L",
          "L",
          "L",
          "L",
          "L",
          "L",
          "L",
          "L",
          "L",
          "L",
          "L",
          "S",
          "L",
          "L",
          "L",
          "L",
          "L",
          "M",
          "L",
          "L",
          "M",
          "L",
          "L",
          "L",
          "L",
          "M",
          "L",
          "L",
          "L",
          "L",
          "L",
          "M",
          "L",
          "L",
          "L",
          "L",
          "L",
          "L",
          "L",
          "L",
          "L",
          "L",
          "S",
          "S",
          "L",
          "L",
          "L",
          "L",
          "L",
          "M",
          "S",
          "M",
          "L",
          "L",
          "M",
          "L",
          "M",
          "L",
          "L",
          "S",
          "L",
          "L",
          "M",
          "L",
          "L",
          "L",
          "L",
          "L",
          "L",
          "M",
          "L",
          "L",
          "L",
          "L",
          "L",
          "L",
          "L",
          "L",
          "L",
          "L",
          "L",
          "L",
          "L",
          "L",
          "S",
          "L",
          "L",
          "L",
          "L",
          "L",
          "L",
          "S",
          "L",
          "L",
          "L",
          "L",
          "S",
          "L",
          "L",
          "L",
          "L",
          "L",
          "L",
          "L",
          "L",
          "L",
          "L",
          "L",
          "L",
          "L",
          "L",
          "L",
          "L",
          "L",
          "L",
          "L",
          "L",
          "L",
          "L",
          "L",
          "M",
          "L",
          "L",
          "L",
          "L",
          "L",
          "L",
          "L",
          "M",
          "L",
          "L",
          "L",
          "L",
          "L",
          "L",
          "M",
          "L",
          "L",
          "S",
          "L",
          "L",
          "L",
          "L",
          "L",
          "L",
          "L",
          "L",
          "L",
          "L",
          "L",
          "S",
          "S",
          "L",
          "L",
          "M",
          "L",
          "L",
          "L",
          "L",
          "L",
          "L",
          "L",
          "L",
          "L",
          "M",
          "M",
          "L",
          "L",
          "L",
          "L",
          "L",
          "L",
          "S",
          "L",
          "L",
          "L",
          "L",
          "S",
          "L",
          "L",
          "L",
          "L",
          "L",
          "L",
          "L",
          "L",
          "L",
          "L",
          "M",
          "L",
          "L",
          "L",
          "M",
          "L",
          "S",
          "L",
          "L",
          "L",
          "L",
          "L",
          "L",
          "L",
          "L",
          "L",
          "L",
          "M",
          "L",
          "M",
          "L",
          "L",
          "L",
          "L",
          "L",
          "L",
          "L",
          "L",
          "M",
          "M",
          "M",
          "S",
          "S",
          "L",
          "L",
          "M",
          "L",
          "L",
          "M",
          "L",
          "L",
          "L",
          "L",
          "L",
          "L",
          "L",
          "L",
          "L",
          "M",
          "M",
          "L",
          "S",
          "L",
          "L",
          "L",
          "L",
          "L",
          "L",
          "L",
          "L",
          "L",
          "M",
          "L",
          "S",
          "M",
          "M",
          "L",
          "M",
          "L",
          "L",
          "L",
          "L",
          "L",
          "L",
          "L",
          "L",
          "L",
          "L",
          "L",
          "L",
          "L",
          "L",
          "M",
          "L",
          "M",
          "L",
          "L",
          "L",
          "L",
          "M",
          "L",
          "L",
          "S",
          "L",
          "L",
          "L",
          "L",
          "L",
          "S",
          "L",
          "L",
          "L",
          "L",
          "L",
          "L",
          "M",
          "M",
          "M",
          "L",
          "L",
          "L",
          "L",
          "S",
          "L",
          "M",
          "L",
          "L",
          "L",
          "L",
          "L",
          "L",
          "M",
          "L",
          "M",
          "L",
          "L",
          "L",
          "M",
          "L",
          "L",
          "M",
          "L",
          "M",
          "L",
          "L",
          "L",
          "L",
          "L",
          "S",
          "M",
          "L",
          "L",
          "L",
          "S",
          "M",
          "L",
          "L",
          "L",
          "M",
          "L",
          "L",
          "L",
          "M",
          "L",
          "M",
          "L",
          "L",
          "S",
          "M",
          "S",
          "L",
          "L",
          "L",
          "L",
          "L",
          "L",
          "L",
          "L",
          "L",
          "L",
          "M",
          "L",
          "L",
          "L",
          "L",
          "M",
          "L",
          "L",
          "L",
          "L",
          "L",
          "M",
          "L",
          "L",
          "M",
          "L",
          "L",
          "L",
          "L",
          "L",
          "S",
          "L",
          "L",
          "S",
          "L",
          "M",
          "L",
          "L",
          "L",
          "L",
          "L",
          "L",
          "L",
          "L",
          "M",
          "L",
          "L",
          "L",
          "L",
          "L",
          "L",
          "M",
          "L",
          "L",
          "M",
          "L",
          "L",
          "L",
          "L",
          "L",
          "L",
          "L",
          "L",
          "L",
          "L",
          "M",
          "L",
          "L",
          "L",
          "L",
          "L",
          "L",
          "L",
          "M",
          "L",
          "L",
          "L",
          "L",
          "L",
          "L",
          "L",
          "S",
          "L",
          "L",
          "S",
          "L",
          "L",
          "L",
          "M",
          "S",
          "L",
          "L",
          "L",
          "S",
          "L",
          "M",
          "L",
          "L",
          "L",
          "L",
          "L",
          "L",
          "L",
          "L",
          "M",
          "M",
          "L",
          "M",
          "L",
          "L",
          "M",
          "L",
          "L",
          "S",
          "L",
          "L",
          "L",
          "L",
          "S",
          "M",
          "L",
          "L",
          "S",
          "S",
          "L",
          "L",
          "L",
          "L",
          "L",
          "L",
          "S",
          "L",
          "L",
          "L",
          "L",
          "L",
          "L",
          "L",
          "L",
          "L",
          "L",
          "L",
          "L",
          "L",
          "L",
          "M",
          "M",
          "L",
          "L",
          "L",
          "L",
          "L",
          "M",
          "L",
          "L",
          "L",
          "L",
          "L",
          "L",
          "L",
          "L",
          "L",
          "L",
          "S",
          "L",
          "L",
          "L",
          "M",
          "L",
          "L",
          "L",
          "L",
          "L",
          "L",
          "L",
          "L",
          "L",
          "M",
          "L",
          "M",
          "M",
          "L",
          "L",
          "L",
          "L",
          "S",
          "L",
          "S",
          "L",
          "L",
          "S",
          "L",
          "M",
          "S",
          "L",
          "L",
          "L",
          "L",
          "L",
          "L",
          "L",
          "S",
          "L",
          "L",
          "S",
          "S",
          "M",
          "L",
          "M",
          "M",
          "M",
          "S",
          "L",
          "L",
          "L",
          "L",
          "L",
          "L",
          "L",
          "L",
          "M",
          "L",
          "L",
          "M",
          "L",
          "L",
          "L",
          "L",
          "L",
          "L",
          "L",
          "L",
          "S",
          "L",
          "S",
          "L",
          "L",
          "L",
          "L",
          "L",
          "L",
          "L",
          "M",
          "M",
          "S",
          "M",
          "L",
          "M",
          "L",
          "L",
          "L",
          "L",
          "M",
          "S",
          "S",
          "L",
          "M",
          "L",
          "L",
          "L",
          "L",
          "L",
          "L",
          "L",
          "M",
          "M",
          "L",
          "L",
          "L",
          "M",
          "L",
          "L",
          "L",
          "M",
          "L",
          "M",
          "M",
          "S",
          "S",
          "L",
          "L",
          "L",
          "S",
          "M",
          "L",
          "L",
          "L",
          "M",
          "L",
          "M",
          "L",
          "M",
          "L",
          "S",
          "L",
          "L",
          "L",
          "L",
          "L",
          "S",
          "L",
          "L",
          "L",
          "S",
          "L",
          "M",
          "L",
          "L",
          "M",
          "L",
          "L",
          "S",
          "L",
          "M",
          "L",
          "L",
          "L",
          "L",
          "L",
          "L",
          "L",
          "L",
          "L",
          "S",
          "M",
          "M",
          "L",
          "L",
          "L",
          "L",
          "L",
          "L",
          "M",
          "L",
          "L",
          "L",
          "L",
          "L",
          "L",
          "S",
          "L",
          "L",
          "L",
          "M",
          "L",
          "L",
          "L",
          "M",
          "L",
          "L",
          "S",
          "L",
          "S",
          "L",
          "L",
          "L",
          "L",
          "L",
          "L",
          "L",
          "L",
          "M",
          "M",
          "L",
          "S",
          "L",
          "L",
          "L",
          "L",
          "L",
          "M",
          "L",
          "M",
          "L",
          "L",
          "L",
          "L"
         ],
         "x0": " ",
         "xaxis": "x",
         "y": [
          72762,
          123400,
          88100,
          163575,
          115800,
          42801,
          136600,
          109280,
          211600,
          182160,
          211600,
          182160,
          145000,
          120000,
          112000,
          64000,
          105800,
          81600,
          210000,
          140000,
          12005,
          160000,
          125000,
          119910,
          72324,
          94000,
          59000,
          177600,
          131300,
          120000,
          211600,
          182160,
          207000,
          139000,
          207500,
          125000,
          230000,
          140000,
          95000,
          154700,
          131495,
          95000,
          70000,
          120411,
          64325,
          235000,
          205000,
          154700,
          131495,
          121679,
          114074,
          202400,
          125800,
          125000,
          160000,
          150000,
          140000,
          125000,
          110000,
          121800,
          81200,
          74902,
          125000,
          105000,
          207500,
          125000,
          110000,
          181940,
          132000,
          106000,
          28890,
          46800,
          137000,
          137000,
          210000,
          160000,
          228600,
          153600,
          146000,
          122000,
          228600,
          153600,
          182000,
          153000,
          110000,
          228518,
          153550,
          188700,
          103600,
          227200,
          149600,
          28890,
          157250,
          133663,
          170200,
          125800,
          168000,
          134000,
          202400,
          125800,
          150000,
          130000,
          63000,
          95000,
          70000,
          48781,
          120000,
          315000,
          220000,
          140000,
          75650,
          360000,
          50000,
          85000,
          90000,
          50000,
          290000,
          232000,
          244000,
          112000,
          72000,
          64202,
          6072,
          53192,
          116633,
          152000,
          91000,
          128404,
          207000,
          300000,
          115000,
          99159,
          52000,
          237000,
          150000,
          110000,
          104000,
          75000,
          165000,
          190000,
          135000,
          117394,
          97900,
          90000,
          175000,
          89998,
          150000,
          115000,
          135000,
          102000,
          108000,
          200000,
          89487,
          50000,
          157000,
          108000,
          148000,
          130000,
          120000,
          64717,
          150000,
          6481,
          184800,
          130800,
          101399,
          76049,
          114000,
          207000,
          153000,
          245000,
          98000,
          220100,
          176080,
          226400,
          124300,
          145000,
          50000,
          53501,
          50000,
          50000,
          42801,
          238200,
          176100,
          181940,
          132000,
          186000,
          148800,
          252000,
          145000,
          236000,
          8929,
          167000,
          175000,
          49764,
          86500,
          128404,
          200100,
          160080,
          165400,
          132320,
          207800,
          153600,
          29551,
          88000,
          180000,
          210000,
          160000,
          250600,
          118100,
          105800,
          81600,
          140000,
          267840,
          214056,
          187831,
          135621,
          116609,
          80000,
          60000,
          60000,
          60000,
          60000,
          115000,
          10142,
          101399,
          69712,
          170000,
          140000,
          175000,
          180000,
          101000,
          101000,
          175000,
          97500,
          67000,
          124600,
          96000,
          292000,
          170000,
          160000,
          140000,
          180000,
          140000,
          245000,
          190000,
          226400,
          124300,
          49305,
          91600,
          165000,
          160000,
          92400,
          103000,
          154000,
          139000,
          160000,
          120000,
          63374,
          82900,
          63900,
          75000,
          75000,
          89000,
          68462,
          72500,
          276900,
          168400,
          105800,
          81600,
          177600,
          131300,
          120000,
          90000,
          145000,
          105400,
          220000,
          140000,
          175000,
          130000,
          21400,
          60000,
          80000,
          200100,
          160080,
          135000,
          100000,
          195000,
          170000,
          108070,
          91860,
          207800,
          153600,
          102600,
          82080,
          160000,
          110000,
          149804,
          107003,
          128404,
          85602,
          192606,
          149804,
          256808,
          192606,
          152000,
          91000,
          200100,
          160080,
          193800,
          62000,
          160000,
          120000,
          192400,
          90700,
          150260,
          109280,
          175000,
          90000,
          200100,
          160080,
          130200,
          106500,
          146800,
          118200,
          165200,
          133000,
          165200,
          133000,
          146800,
          118200,
          115700,
          94700,
          60000,
          50000,
          210000,
          160000,
          144200,
          132870,
          175000,
          120000,
          180000,
          80000,
          91670,
          63500,
          180000,
          90000,
          42801,
          26750,
          165400,
          132320,
          184800,
          148800,
          207500,
          125000,
          165400,
          132320,
          145000,
          118600,
          152000,
          91000,
          210000,
          160000,
          157000,
          108000,
          175000,
          90000,
          101399,
          82387,
          220000,
          165400,
          184800,
          148800,
          145000,
          118600,
          165400,
          132320,
          165400,
          132320,
          160000,
          130000,
          115000,
          100000,
          131500,
          111775,
          221500,
          104400,
          210000,
          160000,
          140000,
          90000,
          165400,
          132320,
          60000,
          50000,
          267840,
          214056,
          201000,
          160080,
          172000,
          87000,
          141300,
          102100,
          141300,
          88100,
          120000,
          30000,
          222500,
          135000,
          300000,
          250000,
          210000,
          160000,
          168400,
          148000,
          165400,
          132320,
          200100,
          160080,
          220100,
          176080,
          177449,
          152099,
          65000,
          55000,
          230000,
          190000,
          182750,
          153000,
          210000,
          140000,
          207000,
          153000,
          182000,
          153000,
          220100,
          176080,
          120000,
          90000,
          60000,
          50000,
          276900,
          104400,
          192400,
          90700,
          210000,
          160000,
          208775,
          147800,
          157000,
          108000,
          152000,
          91000,
          200100,
          160080,
          111000,
          200000,
          20741,
          58697,
          220000,
          150000,
          271600,
          122500,
          129000,
          260000,
          145000,
          135000,
          13658,
          126000,
          122000,
          48686,
          80252,
          140000,
          150000,
          172500,
          120000,
          259000,
          180000,
          250000,
          105000,
          104000,
          192500,
          5800,
          38114,
          190000,
          100000,
          10000,
          224000,
          125000,
          120000,
          10000,
          44941,
          215000,
          260000,
          45000,
          58537,
          50000,
          149000,
          107000,
          140000,
          181570,
          127000,
          50000,
          18148,
          130000,
          135000,
          135000,
          325000,
          100000,
          150000,
          130000,
          135000,
          100000,
          85000,
          180000,
          150000,
          55000,
          175000,
          70000,
          200000,
          410000,
          76049,
          90000,
          201000,
          196000,
          137000,
          180000,
          250000,
          128000,
          150000,
          150000,
          180000,
          130000,
          127000,
          108856,
          96303,
          58390,
          51361,
          87000,
          53192,
          2000,
          130000,
          100474,
          98443,
          150000,
          160000,
          150000,
          38513,
          55000,
          260000,
          50000,
          90002,
          145000,
          135000,
          88000,
          84000,
          120000,
          146000,
          84524,
          55958,
          15209,
          60000,
          175000,
          160000,
          200000,
          130000,
          112575,
          84300,
          50000,
          85000,
          171200,
          66000,
          270000,
          84583,
          70000,
          63000,
          60991,
          77576,
          96806,
          110000,
          53000,
          55000,
          180000,
          61000,
          69712,
          99292,
          2202,
          54784,
          106000,
          77026,
          98000,
          125000,
          19445,
          59102,
          160000,
          23029,
          109678,
          150000,
          76000,
          145340,
          310000,
          58304,
          69552,
          121307,
          99980,
          145000,
          79000,
          120000,
          210000,
          125000,
          115000,
          225000,
          40661,
          40696,
          267508,
          899920,
          153000,
          43338,
          180000,
          120000,
          107000,
          20000,
          65000,
          150000,
          72247,
          305000,
          500000,
          125000,
          64642,
          140000,
          297000,
          46560,
          96000,
          130000,
          126749,
          98346,
          67307,
          39056,
          87742,
          129000,
          155000,
          125000,
          73000,
          170000,
          160000,
          70000,
          98000,
          143000,
          83500,
          120000,
          120000,
          20100,
          240000,
          97000,
          220000,
          287500,
          150000,
          120000,
          157000,
          208000,
          100500,
          175000,
          150000,
          72000,
          125000,
          190000,
          65000,
          160000,
          90000,
          360000,
          200000,
          37825,
          120000,
          34000,
          84922,
          50699,
          165000,
          173000,
          109000,
          126000,
          230000,
          112000,
          130000,
          130000,
          58000,
          69000,
          145000,
          61000,
          70000,
          126000,
          71692,
          145000,
          75000,
          74900,
          65013,
          87000,
          65000,
          53192,
          143000,
          165000,
          74995,
          139104,
          130000,
          125000,
          112000,
          119500,
          220500,
          70000,
          172000,
          118000,
          153667,
          58537,
          9268,
          73300,
          143000,
          300000,
          105000,
          253498,
          42000,
          34303,
          43871,
          105000,
          70245,
          130000,
          35122,
          49646,
          40000,
          118205,
          137547,
          218742,
          70000,
          85000,
          181000,
          224000,
          55806,
          35122,
          220000,
          33952,
          93915,
          211000,
          110000,
          200000,
          170000,
          135000,
          189000,
          173000,
          249000,
          140000,
          135000,
          73936,
          600000,
          100000,
          102000,
          60000,
          183000,
          190000,
          130000,
          130026,
          175000,
          16228,
          150000,
          155000,
          141846,
          74000,
          46100,
          112000,
          255000,
          170000,
          173000,
          130000,
          150000,
          200000,
          101742,
          76000,
          88000,
          50000,
          80000,
          131800,
          99900,
          110000,
          160000,
          128000,
          130000,
          125000,
          310000,
          55000,
          138000,
          142438,
          101742,
          63831,
          103310,
          60000,
          99960,
          5734,
          30000,
          110000,
          68900,
          116000,
          99000,
          85602,
          47857,
          44000,
          52000,
          115500,
          78263,
          71092,
          104000,
          74130,
          70000,
          68342,
          131500,
          99950,
          76200,
          100000,
          100000,
          145000,
          120000,
          100000,
          320000,
          75000,
          150000,
          81562,
          120000,
          115000,
          91700,
          82600,
          146000,
          135000,
          185000,
          220000,
          68500,
          111883,
          115000,
          97350,
          94000,
          93000,
          130000,
          74130,
          114839,
          100000,
          79000,
          130000,
          129998,
          75000,
          155000,
          47518,
          75000,
          100474,
          200000,
          93600,
          96500,
          100000,
          205000,
          122000,
          96000,
          72000,
          50000,
          50000,
          61896,
          177308,
          13523,
          48141,
          27187,
          140000,
          85000,
          92000,
          103000,
          70000,
          31915,
          65000,
          180000,
          59693,
          88981,
          216000,
          90000,
          95000,
          70000,
          150000,
          130000,
          175000,
          220000,
          106000,
          120000,
          75000,
          35899,
          96000,
          75000,
          88654,
          43275,
          43275,
          65000,
          80000,
          91520,
          255170,
          135600,
          61195,
          53000,
          72000,
          169000,
          121581,
          99000,
          100000,
          130000,
          97000,
          68428,
          65013,
          90000,
          85000,
          90000,
          85000,
          66091,
          75774,
          123000,
          80000,
          170000,
          77000,
          63810,
          375000,
          59575,
          135000,
          148000,
          180000,
          90000,
          63700,
          89405,
          117810,
          200000,
          56738,
          63810,
          134000,
          119000,
          140000,
          175000,
          85000,
          180000,
          320000,
          75000,
          127000,
          45100,
          124000,
          90000,
          240000,
          240000,
          80000,
          82648,
          27000,
          87500,
          110000,
          98000,
          102000,
          72000,
          239287,
          124000,
          119000,
          175000,
          180000,
          63400,
          45950,
          123000,
          80000,
          120000,
          150000,
          47282,
          135000,
          130000,
          100000,
          23641,
          49792,
          70000,
          130000,
          73000,
          34018,
          49485,
          92000,
          145000,
          135000,
          53783,
          150000,
          60520,
          75000,
          66022,
          68773,
          150000,
          90000,
          79833,
          102500,
          130000,
          85000,
          120000,
          600000,
          141000,
          66000,
          60008,
          272000,
          80000,
          51305,
          31000,
          119643,
          100300,
          150000,
          119000,
          192000,
          102000,
          240000,
          63000,
          98000,
          70545,
          100000,
          80000,
          72000,
          75000,
          80000,
          67000,
          130000,
          67798,
          120000,
          76500,
          160000,
          200000,
          142000,
          180000,
          120000,
          40000,
          85108,
          150000,
          100000,
          34043,
          111667,
          187000,
          43824,
          104000,
          79762,
          65000,
          128000,
          120000,
          105000,
          120000,
          145000,
          43736,
          78000,
          125000,
          130000,
          130000,
          141000,
          120000,
          90000,
          172500,
          90000,
          93000,
          57082,
          62000,
          240000,
          195000,
          120308,
          59102,
          90000,
          95715,
          49646,
          105070,
          116327,
          75774,
          12800,
          11812,
          98000,
          2000,
          85000,
          37488,
          120000,
          120000,
          70000,
          75000,
          101350,
          60000,
          85000,
          100000,
          76000,
          135596,
          105000,
          100000,
          65000,
          48684,
          122000,
          80000,
          60619,
          131870,
          99900,
          80000,
          82528,
          79000,
          186487,
          64255,
          78879,
          76833,
          136591,
          126000,
          50000,
          75000,
          103000,
          138000,
          42554,
          123000,
          80000,
          115000,
          61467,
          100000,
          100000,
          275000,
          78965,
          80000,
          210000,
          66000,
          95000,
          160000,
          21637,
          65013,
          55000,
          106000,
          202000,
          36234,
          50710,
          71000,
          11305,
          9715,
          114000,
          81000,
          148000,
          79509,
          110000,
          20000,
          77000,
          130000,
          142000,
          174000,
          100000,
          130000,
          134000,
          45618,
          170000,
          120000,
          70923,
          53192,
          90000,
          52588,
          150000,
          80000,
          108822,
          65000,
          21283,
          85000,
          135000,
          54784,
          77572,
          100000,
          72000,
          127000,
          140000,
          125000,
          55000,
          90000,
          150000,
          80000,
          26230,
          82700,
          39200,
          106000,
          120000,
          51389,
          200000,
          170000,
          107000,
          159000,
          73000,
          146000,
          72317,
          4327,
          32323,
          77600,
          75000,
          180000,
          51321,
          63000,
          13523,
          100000,
          60619,
          35000,
          118205,
          108000,
          130000,
          62726,
          106564,
          34214,
          170000,
          41372,
          4868,
          132000,
          50828,
          90530,
          10200,
          150000,
          54309,
          59102,
          285118,
          4318,
          100500,
          94564,
          89294,
          280000,
          172615,
          134317,
          450000,
          60000,
          110000,
          40000,
          80000,
          140000,
          30000,
          115000,
          52267,
          140000,
          59102,
          200000,
          165488,
          140000,
          140000,
          64132,
          2056,
          88654,
          51321,
          59102,
          3238,
          94564,
          195316,
          70709,
          82744,
          44892,
          169525,
          54727,
          19858,
          29652,
          59304,
          50831,
          60000,
          96198,
          140000,
          34157,
          82744,
          34414,
          192396,
          39007,
          82114,
          90000,
          82744,
          100000,
          136856,
          8223,
          66195,
          13523,
          5337,
          73287,
          62726,
          60284,
          83415,
          66147,
          300000,
          20285,
          80100,
          175000,
          2764,
          82000,
          132000,
          105000,
          106000,
          131154,
          115000,
          143000,
          289000,
          135090,
          115000,
          252000,
          79810,
          135000,
          190000,
          48000,
          140000,
          127248,
          123792,
          56662,
          203000,
          38776,
          140400,
          110000,
          172000,
          88500,
          76960,
          145000,
          109000,
          63866,
          85000,
          75000,
          206620,
          140000,
          169781,
          110000,
          85000,
          108000,
          109024,
          125000,
          133000,
          126000,
          49040,
          260000,
          51774,
          105000,
          133900,
          75000,
          118903,
          89000,
          400000,
          205000,
          198000,
          60284,
          125452,
          216690,
          57920,
          86000,
          65000,
          149000,
          140000,
          116000,
          81000,
          115000,
          128000,
          71849,
          114047,
          122750,
          144000,
          102611,
          100000,
          110000,
          35000,
          65000,
          170000,
          135000,
          100000,
          456621,
          96422,
          82528,
          126000,
          57769,
          66310
         ],
         "y0": " ",
         "yaxis": "y"
        }
       ],
       "layout": {
        "boxmode": "group",
        "legend": {
         "tracegroupgap": 0
        },
        "template": {
         "data": {
          "bar": [
           {
            "error_x": {
             "color": "#2a3f5f"
            },
            "error_y": {
             "color": "#2a3f5f"
            },
            "marker": {
             "line": {
              "color": "#E5ECF6",
              "width": 0.5
             },
             "pattern": {
              "fillmode": "overlay",
              "size": 10,
              "solidity": 0.2
             }
            },
            "type": "bar"
           }
          ],
          "barpolar": [
           {
            "marker": {
             "line": {
              "color": "#E5ECF6",
              "width": 0.5
             },
             "pattern": {
              "fillmode": "overlay",
              "size": 10,
              "solidity": 0.2
             }
            },
            "type": "barpolar"
           }
          ],
          "carpet": [
           {
            "aaxis": {
             "endlinecolor": "#2a3f5f",
             "gridcolor": "white",
             "linecolor": "white",
             "minorgridcolor": "white",
             "startlinecolor": "#2a3f5f"
            },
            "baxis": {
             "endlinecolor": "#2a3f5f",
             "gridcolor": "white",
             "linecolor": "white",
             "minorgridcolor": "white",
             "startlinecolor": "#2a3f5f"
            },
            "type": "carpet"
           }
          ],
          "choropleth": [
           {
            "colorbar": {
             "outlinewidth": 0,
             "ticks": ""
            },
            "type": "choropleth"
           }
          ],
          "contour": [
           {
            "colorbar": {
             "outlinewidth": 0,
             "ticks": ""
            },
            "colorscale": [
             [
              0,
              "#0d0887"
             ],
             [
              0.1111111111111111,
              "#46039f"
             ],
             [
              0.2222222222222222,
              "#7201a8"
             ],
             [
              0.3333333333333333,
              "#9c179e"
             ],
             [
              0.4444444444444444,
              "#bd3786"
             ],
             [
              0.5555555555555556,
              "#d8576b"
             ],
             [
              0.6666666666666666,
              "#ed7953"
             ],
             [
              0.7777777777777778,
              "#fb9f3a"
             ],
             [
              0.8888888888888888,
              "#fdca26"
             ],
             [
              1,
              "#f0f921"
             ]
            ],
            "type": "contour"
           }
          ],
          "contourcarpet": [
           {
            "colorbar": {
             "outlinewidth": 0,
             "ticks": ""
            },
            "type": "contourcarpet"
           }
          ],
          "heatmap": [
           {
            "colorbar": {
             "outlinewidth": 0,
             "ticks": ""
            },
            "colorscale": [
             [
              0,
              "#0d0887"
             ],
             [
              0.1111111111111111,
              "#46039f"
             ],
             [
              0.2222222222222222,
              "#7201a8"
             ],
             [
              0.3333333333333333,
              "#9c179e"
             ],
             [
              0.4444444444444444,
              "#bd3786"
             ],
             [
              0.5555555555555556,
              "#d8576b"
             ],
             [
              0.6666666666666666,
              "#ed7953"
             ],
             [
              0.7777777777777778,
              "#fb9f3a"
             ],
             [
              0.8888888888888888,
              "#fdca26"
             ],
             [
              1,
              "#f0f921"
             ]
            ],
            "type": "heatmap"
           }
          ],
          "heatmapgl": [
           {
            "colorbar": {
             "outlinewidth": 0,
             "ticks": ""
            },
            "colorscale": [
             [
              0,
              "#0d0887"
             ],
             [
              0.1111111111111111,
              "#46039f"
             ],
             [
              0.2222222222222222,
              "#7201a8"
             ],
             [
              0.3333333333333333,
              "#9c179e"
             ],
             [
              0.4444444444444444,
              "#bd3786"
             ],
             [
              0.5555555555555556,
              "#d8576b"
             ],
             [
              0.6666666666666666,
              "#ed7953"
             ],
             [
              0.7777777777777778,
              "#fb9f3a"
             ],
             [
              0.8888888888888888,
              "#fdca26"
             ],
             [
              1,
              "#f0f921"
             ]
            ],
            "type": "heatmapgl"
           }
          ],
          "histogram": [
           {
            "marker": {
             "pattern": {
              "fillmode": "overlay",
              "size": 10,
              "solidity": 0.2
             }
            },
            "type": "histogram"
           }
          ],
          "histogram2d": [
           {
            "colorbar": {
             "outlinewidth": 0,
             "ticks": ""
            },
            "colorscale": [
             [
              0,
              "#0d0887"
             ],
             [
              0.1111111111111111,
              "#46039f"
             ],
             [
              0.2222222222222222,
              "#7201a8"
             ],
             [
              0.3333333333333333,
              "#9c179e"
             ],
             [
              0.4444444444444444,
              "#bd3786"
             ],
             [
              0.5555555555555556,
              "#d8576b"
             ],
             [
              0.6666666666666666,
              "#ed7953"
             ],
             [
              0.7777777777777778,
              "#fb9f3a"
             ],
             [
              0.8888888888888888,
              "#fdca26"
             ],
             [
              1,
              "#f0f921"
             ]
            ],
            "type": "histogram2d"
           }
          ],
          "histogram2dcontour": [
           {
            "colorbar": {
             "outlinewidth": 0,
             "ticks": ""
            },
            "colorscale": [
             [
              0,
              "#0d0887"
             ],
             [
              0.1111111111111111,
              "#46039f"
             ],
             [
              0.2222222222222222,
              "#7201a8"
             ],
             [
              0.3333333333333333,
              "#9c179e"
             ],
             [
              0.4444444444444444,
              "#bd3786"
             ],
             [
              0.5555555555555556,
              "#d8576b"
             ],
             [
              0.6666666666666666,
              "#ed7953"
             ],
             [
              0.7777777777777778,
              "#fb9f3a"
             ],
             [
              0.8888888888888888,
              "#fdca26"
             ],
             [
              1,
              "#f0f921"
             ]
            ],
            "type": "histogram2dcontour"
           }
          ],
          "mesh3d": [
           {
            "colorbar": {
             "outlinewidth": 0,
             "ticks": ""
            },
            "type": "mesh3d"
           }
          ],
          "parcoords": [
           {
            "line": {
             "colorbar": {
              "outlinewidth": 0,
              "ticks": ""
             }
            },
            "type": "parcoords"
           }
          ],
          "pie": [
           {
            "automargin": true,
            "type": "pie"
           }
          ],
          "scatter": [
           {
            "fillpattern": {
             "fillmode": "overlay",
             "size": 10,
             "solidity": 0.2
            },
            "type": "scatter"
           }
          ],
          "scatter3d": [
           {
            "line": {
             "colorbar": {
              "outlinewidth": 0,
              "ticks": ""
             }
            },
            "marker": {
             "colorbar": {
              "outlinewidth": 0,
              "ticks": ""
             }
            },
            "type": "scatter3d"
           }
          ],
          "scattercarpet": [
           {
            "marker": {
             "colorbar": {
              "outlinewidth": 0,
              "ticks": ""
             }
            },
            "type": "scattercarpet"
           }
          ],
          "scattergeo": [
           {
            "marker": {
             "colorbar": {
              "outlinewidth": 0,
              "ticks": ""
             }
            },
            "type": "scattergeo"
           }
          ],
          "scattergl": [
           {
            "marker": {
             "colorbar": {
              "outlinewidth": 0,
              "ticks": ""
             }
            },
            "type": "scattergl"
           }
          ],
          "scattermapbox": [
           {
            "marker": {
             "colorbar": {
              "outlinewidth": 0,
              "ticks": ""
             }
            },
            "type": "scattermapbox"
           }
          ],
          "scatterpolar": [
           {
            "marker": {
             "colorbar": {
              "outlinewidth": 0,
              "ticks": ""
             }
            },
            "type": "scatterpolar"
           }
          ],
          "scatterpolargl": [
           {
            "marker": {
             "colorbar": {
              "outlinewidth": 0,
              "ticks": ""
             }
            },
            "type": "scatterpolargl"
           }
          ],
          "scatterternary": [
           {
            "marker": {
             "colorbar": {
              "outlinewidth": 0,
              "ticks": ""
             }
            },
            "type": "scatterternary"
           }
          ],
          "surface": [
           {
            "colorbar": {
             "outlinewidth": 0,
             "ticks": ""
            },
            "colorscale": [
             [
              0,
              "#0d0887"
             ],
             [
              0.1111111111111111,
              "#46039f"
             ],
             [
              0.2222222222222222,
              "#7201a8"
             ],
             [
              0.3333333333333333,
              "#9c179e"
             ],
             [
              0.4444444444444444,
              "#bd3786"
             ],
             [
              0.5555555555555556,
              "#d8576b"
             ],
             [
              0.6666666666666666,
              "#ed7953"
             ],
             [
              0.7777777777777778,
              "#fb9f3a"
             ],
             [
              0.8888888888888888,
              "#fdca26"
             ],
             [
              1,
              "#f0f921"
             ]
            ],
            "type": "surface"
           }
          ],
          "table": [
           {
            "cells": {
             "fill": {
              "color": "#EBF0F8"
             },
             "line": {
              "color": "white"
             }
            },
            "header": {
             "fill": {
              "color": "#C8D4E3"
             },
             "line": {
              "color": "white"
             }
            },
            "type": "table"
           }
          ]
         },
         "layout": {
          "annotationdefaults": {
           "arrowcolor": "#2a3f5f",
           "arrowhead": 0,
           "arrowwidth": 1
          },
          "autotypenumbers": "strict",
          "coloraxis": {
           "colorbar": {
            "outlinewidth": 0,
            "ticks": ""
           }
          },
          "colorscale": {
           "diverging": [
            [
             0,
             "#8e0152"
            ],
            [
             0.1,
             "#c51b7d"
            ],
            [
             0.2,
             "#de77ae"
            ],
            [
             0.3,
             "#f1b6da"
            ],
            [
             0.4,
             "#fde0ef"
            ],
            [
             0.5,
             "#f7f7f7"
            ],
            [
             0.6,
             "#e6f5d0"
            ],
            [
             0.7,
             "#b8e186"
            ],
            [
             0.8,
             "#7fbc41"
            ],
            [
             0.9,
             "#4d9221"
            ],
            [
             1,
             "#276419"
            ]
           ],
           "sequential": [
            [
             0,
             "#0d0887"
            ],
            [
             0.1111111111111111,
             "#46039f"
            ],
            [
             0.2222222222222222,
             "#7201a8"
            ],
            [
             0.3333333333333333,
             "#9c179e"
            ],
            [
             0.4444444444444444,
             "#bd3786"
            ],
            [
             0.5555555555555556,
             "#d8576b"
            ],
            [
             0.6666666666666666,
             "#ed7953"
            ],
            [
             0.7777777777777778,
             "#fb9f3a"
            ],
            [
             0.8888888888888888,
             "#fdca26"
            ],
            [
             1,
             "#f0f921"
            ]
           ],
           "sequentialminus": [
            [
             0,
             "#0d0887"
            ],
            [
             0.1111111111111111,
             "#46039f"
            ],
            [
             0.2222222222222222,
             "#7201a8"
            ],
            [
             0.3333333333333333,
             "#9c179e"
            ],
            [
             0.4444444444444444,
             "#bd3786"
            ],
            [
             0.5555555555555556,
             "#d8576b"
            ],
            [
             0.6666666666666666,
             "#ed7953"
            ],
            [
             0.7777777777777778,
             "#fb9f3a"
            ],
            [
             0.8888888888888888,
             "#fdca26"
            ],
            [
             1,
             "#f0f921"
            ]
           ]
          },
          "colorway": [
           "#636efa",
           "#EF553B",
           "#00cc96",
           "#ab63fa",
           "#FFA15A",
           "#19d3f3",
           "#FF6692",
           "#B6E880",
           "#FF97FF",
           "#FECB52"
          ],
          "font": {
           "color": "#2a3f5f"
          },
          "geo": {
           "bgcolor": "white",
           "lakecolor": "white",
           "landcolor": "#E5ECF6",
           "showlakes": true,
           "showland": true,
           "subunitcolor": "white"
          },
          "hoverlabel": {
           "align": "left"
          },
          "hovermode": "closest",
          "mapbox": {
           "style": "light"
          },
          "paper_bgcolor": "white",
          "plot_bgcolor": "#E5ECF6",
          "polar": {
           "angularaxis": {
            "gridcolor": "white",
            "linecolor": "white",
            "ticks": ""
           },
           "bgcolor": "#E5ECF6",
           "radialaxis": {
            "gridcolor": "white",
            "linecolor": "white",
            "ticks": ""
           }
          },
          "scene": {
           "xaxis": {
            "backgroundcolor": "#E5ECF6",
            "gridcolor": "white",
            "gridwidth": 2,
            "linecolor": "white",
            "showbackground": true,
            "ticks": "",
            "zerolinecolor": "white"
           },
           "yaxis": {
            "backgroundcolor": "#E5ECF6",
            "gridcolor": "white",
            "gridwidth": 2,
            "linecolor": "white",
            "showbackground": true,
            "ticks": "",
            "zerolinecolor": "white"
           },
           "zaxis": {
            "backgroundcolor": "#E5ECF6",
            "gridcolor": "white",
            "gridwidth": 2,
            "linecolor": "white",
            "showbackground": true,
            "ticks": "",
            "zerolinecolor": "white"
           }
          },
          "shapedefaults": {
           "line": {
            "color": "#2a3f5f"
           }
          },
          "ternary": {
           "aaxis": {
            "gridcolor": "white",
            "linecolor": "white",
            "ticks": ""
           },
           "baxis": {
            "gridcolor": "white",
            "linecolor": "white",
            "ticks": ""
           },
           "bgcolor": "#E5ECF6",
           "caxis": {
            "gridcolor": "white",
            "linecolor": "white",
            "ticks": ""
           }
          },
          "title": {
           "x": 0.05
          },
          "xaxis": {
           "automargin": true,
           "gridcolor": "white",
           "linecolor": "white",
           "ticks": "",
           "title": {
            "standoff": 15
           },
           "zerolinecolor": "white",
           "zerolinewidth": 2
          },
          "yaxis": {
           "automargin": true,
           "gridcolor": "white",
           "linecolor": "white",
           "ticks": "",
           "title": {
            "standoff": 15
           },
           "zerolinecolor": "white",
           "zerolinewidth": 2
          }
         }
        },
        "title": {
         "text": "Company Size vs. Salary"
        },
        "xaxis": {
         "anchor": "y",
         "domain": [
          0,
          1
         ],
         "title": {
          "text": "Company Size"
         }
        },
        "yaxis": {
         "anchor": "x",
         "domain": [
          0,
          1
         ],
         "title": {
          "text": "Salary (USD)"
         }
        }
       }
      },
      "text/html": [
       "<div>                            <div id=\"f2efd31f-f5c1-46d0-91a0-331b0da56a62\" class=\"plotly-graph-div\" style=\"height:525px; width:100%;\"></div>            <script type=\"text/javascript\">                require([\"plotly\"], function(Plotly) {                    window.PLOTLYENV=window.PLOTLYENV || {};                                    if (document.getElementById(\"f2efd31f-f5c1-46d0-91a0-331b0da56a62\")) {                    Plotly.newPlot(                        \"f2efd31f-f5c1-46d0-91a0-331b0da56a62\",                        [{\"alignmentgroup\":\"True\",\"boxpoints\":\"all\",\"hovertemplate\":\"company_size=%{x}\\u003cbr\\u003esalary_in_usd=%{y}\\u003cextra\\u003e\\u003c\\u002fextra\\u003e\",\"legendgroup\":\"\",\"marker\":{\"color\":\"#636efa\"},\"name\":\"\",\"notched\":false,\"offsetgroup\":\"\",\"orientation\":\"v\",\"showlegend\":false,\"x\":[\"S\",\"M\",\"M\",\"M\",\"M\",\"L\",\"M\",\"M\",\"M\",\"M\",\"M\",\"M\",\"M\",\"M\",\"M\",\"M\",\"M\",\"M\",\"M\",\"M\",\"S\",\"M\",\"M\",\"M\",\"M\",\"M\",\"M\",\"L\",\"L\",\"L\",\"M\",\"M\",\"M\",\"M\",\"M\",\"M\",\"M\",\"M\",\"M\",\"M\",\"M\",\"M\",\"M\",\"M\",\"M\",\"M\",\"M\",\"M\",\"M\",\"M\",\"M\",\"M\",\"M\",\"L\",\"S\",\"M\",\"M\",\"M\",\"M\",\"L\",\"L\",\"L\",\"L\",\"L\",\"M\",\"M\",\"L\",\"M\",\"M\",\"M\",\"L\",\"L\",\"L\",\"L\",\"M\",\"M\",\"L\",\"L\",\"M\",\"M\",\"L\",\"L\",\"M\",\"M\",\"M\",\"L\",\"L\",\"L\",\"L\",\"M\",\"M\",\"L\",\"M\",\"M\",\"M\",\"M\",\"M\",\"M\",\"M\",\"M\",\"M\",\"M\",\"S\",\"M\",\"M\",\"L\",\"S\",\"L\",\"M\",\"M\",\"L\",\"L\",\"S\",\"L\",\"L\",\"S\",\"L\",\"L\",\"L\",\"L\",\"L\",\"M\",\"L\",\"L\",\"M\",\"M\",\"M\",\"L\",\"L\",\"L\",\"L\",\"L\",\"L\",\"L\",\"M\",\"L\",\"L\",\"M\",\"L\",\"L\",\"L\",\"L\",\"L\",\"S\",\"L\",\"L\",\"L\",\"L\",\"L\",\"L\",\"L\",\"M\",\"L\",\"S\",\"M\",\"M\",\"L\",\"M\",\"M\",\"L\",\"L\",\"L\",\"M\",\"M\",\"M\",\"M\",\"L\",\"M\",\"M\",\"L\",\"L\",\"M\",\"M\",\"L\",\"L\",\"L\",\"M\",\"M\",\"L\",\"L\",\"L\",\"L\",\"L\",\"M\",\"M\",\"M\",\"M\",\"M\",\"M\",\"L\",\"M\",\"M\",\"M\",\"L\",\"L\",\"L\",\"M\",\"M\",\"M\",\"M\",\"L\",\"L\",\"S\",\"L\",\"L\",\"M\",\"M\",\"M\",\"M\",\"M\",\"M\",\"L\",\"M\",\"M\",\"L\",\"M\",\"M\",\"L\",\"L\",\"L\",\"L\",\"S\",\"M\",\"L\",\"M\",\"M\",\"M\",\"M\",\"S\",\"L\",\"L\",\"L\",\"L\",\"L\",\"L\",\"M\",\"M\",\"M\",\"M\",\"M\",\"M\",\"M\",\"M\",\"M\",\"M\",\"L\",\"L\",\"S\",\"L\",\"L\",\"L\",\"L\",\"L\",\"M\",\"M\",\"M\",\"M\",\"M\",\"M\",\"M\",\"L\",\"L\",\"L\",\"L\",\"L\",\"M\",\"M\",\"M\",\"M\",\"L\",\"L\",\"M\",\"M\",\"M\",\"M\",\"M\",\"M\",\"M\",\"M\",\"M\",\"M\",\"L\",\"M\",\"M\",\"M\",\"M\",\"M\",\"M\",\"M\",\"M\",\"L\",\"L\",\"M\",\"M\",\"M\",\"M\",\"M\",\"M\",\"M\",\"M\",\"M\",\"M\",\"M\",\"M\",\"M\",\"M\",\"M\",\"M\",\"M\",\"M\",\"L\",\"L\",\"M\",\"M\",\"M\",\"M\",\"M\",\"M\",\"M\",\"M\",\"M\",\"M\",\"M\",\"M\",\"M\",\"M\",\"M\",\"M\",\"M\",\"M\",\"M\",\"M\",\"M\",\"M\",\"M\",\"M\",\"M\",\"M\",\"M\",\"M\",\"M\",\"M\",\"L\",\"L\",\"M\",\"M\",\"M\",\"M\",\"M\",\"M\",\"M\",\"M\",\"M\",\"M\",\"M\",\"M\",\"M\",\"M\",\"M\",\"M\",\"M\",\"M\",\"M\",\"M\",\"M\",\"M\",\"M\",\"M\",\"M\",\"M\",\"M\",\"M\",\"M\",\"M\",\"M\",\"M\",\"M\",\"M\",\"M\",\"M\",\"M\",\"M\",\"M\",\"M\",\"M\",\"M\",\"M\",\"M\",\"S\",\"S\",\"M\",\"M\",\"M\",\"M\",\"M\",\"M\",\"M\",\"M\",\"M\",\"M\",\"M\",\"M\",\"M\",\"M\",\"M\",\"M\",\"M\",\"M\",\"M\",\"M\",\"M\",\"M\",\"M\",\"M\",\"M\",\"M\",\"M\",\"M\",\"M\",\"M\",\"M\",\"M\",\"M\",\"M\",\"M\",\"M\",\"M\",\"M\",\"M\",\"M\",\"M\",\"M\",\"M\",\"M\",\"M\",\"M\",\"M\",\"M\",\"M\",\"M\",\"M\",\"M\",\"M\",\"M\",\"M\",\"M\",\"M\",\"M\",\"M\",\"M\",\"M\",\"M\",\"M\",\"M\",\"L\",\"L\",\"L\",\"L\",\"M\",\"M\",\"L\",\"S\",\"L\",\"L\",\"L\",\"S\",\"L\",\"M\",\"L\",\"S\",\"L\",\"L\",\"L\",\"L\",\"L\",\"L\",\"L\",\"L\",\"L\",\"M\",\"S\",\"L\",\"S\",\"L\",\"L\",\"S\",\"L\",\"L\",\"L\",\"M\",\"L\",\"L\",\"L\",\"L\",\"L\",\"L\",\"M\",\"L\",\"M\",\"L\",\"L\",\"L\",\"L\",\"S\",\"L\",\"L\",\"L\",\"L\",\"L\",\"M\",\"M\",\"M\",\"L\",\"L\",\"L\",\"M\",\"M\",\"L\",\"L\",\"L\",\"L\",\"L\",\"L\",\"L\",\"M\",\"L\",\"L\",\"L\",\"L\",\"L\",\"L\",\"L\",\"L\",\"L\",\"L\",\"L\",\"M\",\"L\",\"S\",\"M\",\"L\",\"L\",\"L\",\"L\",\"L\",\"L\",\"S\",\"L\",\"L\",\"L\",\"L\",\"L\",\"L\",\"L\",\"L\",\"M\",\"L\",\"L\",\"L\",\"M\",\"M\",\"L\",\"L\",\"L\",\"M\",\"L\",\"L\",\"S\",\"L\",\"L\",\"L\",\"L\",\"L\",\"L\",\"L\",\"L\",\"L\",\"L\",\"M\",\"M\",\"S\",\"L\",\"L\",\"S\",\"L\",\"L\",\"L\",\"L\",\"L\",\"L\",\"L\",\"S\",\"S\",\"L\",\"L\",\"M\",\"M\",\"L\",\"M\",\"L\",\"L\",\"L\",\"L\",\"L\",\"L\",\"M\",\"L\",\"L\",\"M\",\"L\",\"L\",\"M\",\"L\",\"L\",\"L\",\"L\",\"L\",\"M\",\"L\",\"L\",\"L\",\"L\",\"S\",\"L\",\"L\",\"L\",\"L\",\"L\",\"L\",\"L\",\"L\",\"L\",\"L\",\"L\",\"L\",\"S\",\"L\",\"L\",\"L\",\"L\",\"L\",\"M\",\"L\",\"L\",\"M\",\"L\",\"L\",\"L\",\"L\",\"M\",\"L\",\"L\",\"L\",\"L\",\"L\",\"M\",\"L\",\"L\",\"L\",\"L\",\"L\",\"L\",\"L\",\"L\",\"L\",\"L\",\"S\",\"S\",\"L\",\"L\",\"L\",\"L\",\"L\",\"M\",\"S\",\"M\",\"L\",\"L\",\"M\",\"L\",\"M\",\"L\",\"L\",\"S\",\"L\",\"L\",\"M\",\"L\",\"L\",\"L\",\"L\",\"L\",\"L\",\"M\",\"L\",\"L\",\"L\",\"L\",\"L\",\"L\",\"L\",\"L\",\"L\",\"L\",\"L\",\"L\",\"L\",\"L\",\"S\",\"L\",\"L\",\"L\",\"L\",\"L\",\"L\",\"S\",\"L\",\"L\",\"L\",\"L\",\"S\",\"L\",\"L\",\"L\",\"L\",\"L\",\"L\",\"L\",\"L\",\"L\",\"L\",\"L\",\"L\",\"L\",\"L\",\"L\",\"L\",\"L\",\"L\",\"L\",\"L\",\"L\",\"L\",\"L\",\"M\",\"L\",\"L\",\"L\",\"L\",\"L\",\"L\",\"L\",\"M\",\"L\",\"L\",\"L\",\"L\",\"L\",\"L\",\"M\",\"L\",\"L\",\"S\",\"L\",\"L\",\"L\",\"L\",\"L\",\"L\",\"L\",\"L\",\"L\",\"L\",\"L\",\"S\",\"S\",\"L\",\"L\",\"M\",\"L\",\"L\",\"L\",\"L\",\"L\",\"L\",\"L\",\"L\",\"L\",\"M\",\"M\",\"L\",\"L\",\"L\",\"L\",\"L\",\"L\",\"S\",\"L\",\"L\",\"L\",\"L\",\"S\",\"L\",\"L\",\"L\",\"L\",\"L\",\"L\",\"L\",\"L\",\"L\",\"L\",\"M\",\"L\",\"L\",\"L\",\"M\",\"L\",\"S\",\"L\",\"L\",\"L\",\"L\",\"L\",\"L\",\"L\",\"L\",\"L\",\"L\",\"M\",\"L\",\"M\",\"L\",\"L\",\"L\",\"L\",\"L\",\"L\",\"L\",\"L\",\"M\",\"M\",\"M\",\"S\",\"S\",\"L\",\"L\",\"M\",\"L\",\"L\",\"M\",\"L\",\"L\",\"L\",\"L\",\"L\",\"L\",\"L\",\"L\",\"L\",\"M\",\"M\",\"L\",\"S\",\"L\",\"L\",\"L\",\"L\",\"L\",\"L\",\"L\",\"L\",\"L\",\"M\",\"L\",\"S\",\"M\",\"M\",\"L\",\"M\",\"L\",\"L\",\"L\",\"L\",\"L\",\"L\",\"L\",\"L\",\"L\",\"L\",\"L\",\"L\",\"L\",\"L\",\"M\",\"L\",\"M\",\"L\",\"L\",\"L\",\"L\",\"M\",\"L\",\"L\",\"S\",\"L\",\"L\",\"L\",\"L\",\"L\",\"S\",\"L\",\"L\",\"L\",\"L\",\"L\",\"L\",\"M\",\"M\",\"M\",\"L\",\"L\",\"L\",\"L\",\"S\",\"L\",\"M\",\"L\",\"L\",\"L\",\"L\",\"L\",\"L\",\"M\",\"L\",\"M\",\"L\",\"L\",\"L\",\"M\",\"L\",\"L\",\"M\",\"L\",\"M\",\"L\",\"L\",\"L\",\"L\",\"L\",\"S\",\"M\",\"L\",\"L\",\"L\",\"S\",\"M\",\"L\",\"L\",\"L\",\"M\",\"L\",\"L\",\"L\",\"M\",\"L\",\"M\",\"L\",\"L\",\"S\",\"M\",\"S\",\"L\",\"L\",\"L\",\"L\",\"L\",\"L\",\"L\",\"L\",\"L\",\"L\",\"M\",\"L\",\"L\",\"L\",\"L\",\"M\",\"L\",\"L\",\"L\",\"L\",\"L\",\"M\",\"L\",\"L\",\"M\",\"L\",\"L\",\"L\",\"L\",\"L\",\"S\",\"L\",\"L\",\"S\",\"L\",\"M\",\"L\",\"L\",\"L\",\"L\",\"L\",\"L\",\"L\",\"L\",\"M\",\"L\",\"L\",\"L\",\"L\",\"L\",\"L\",\"M\",\"L\",\"L\",\"M\",\"L\",\"L\",\"L\",\"L\",\"L\",\"L\",\"L\",\"L\",\"L\",\"L\",\"M\",\"L\",\"L\",\"L\",\"L\",\"L\",\"L\",\"L\",\"M\",\"L\",\"L\",\"L\",\"L\",\"L\",\"L\",\"L\",\"S\",\"L\",\"L\",\"S\",\"L\",\"L\",\"L\",\"M\",\"S\",\"L\",\"L\",\"L\",\"S\",\"L\",\"M\",\"L\",\"L\",\"L\",\"L\",\"L\",\"L\",\"L\",\"L\",\"M\",\"M\",\"L\",\"M\",\"L\",\"L\",\"M\",\"L\",\"L\",\"S\",\"L\",\"L\",\"L\",\"L\",\"S\",\"M\",\"L\",\"L\",\"S\",\"S\",\"L\",\"L\",\"L\",\"L\",\"L\",\"L\",\"S\",\"L\",\"L\",\"L\",\"L\",\"L\",\"L\",\"L\",\"L\",\"L\",\"L\",\"L\",\"L\",\"L\",\"L\",\"M\",\"M\",\"L\",\"L\",\"L\",\"L\",\"L\",\"M\",\"L\",\"L\",\"L\",\"L\",\"L\",\"L\",\"L\",\"L\",\"L\",\"L\",\"S\",\"L\",\"L\",\"L\",\"M\",\"L\",\"L\",\"L\",\"L\",\"L\",\"L\",\"L\",\"L\",\"L\",\"M\",\"L\",\"M\",\"M\",\"L\",\"L\",\"L\",\"L\",\"S\",\"L\",\"S\",\"L\",\"L\",\"S\",\"L\",\"M\",\"S\",\"L\",\"L\",\"L\",\"L\",\"L\",\"L\",\"L\",\"S\",\"L\",\"L\",\"S\",\"S\",\"M\",\"L\",\"M\",\"M\",\"M\",\"S\",\"L\",\"L\",\"L\",\"L\",\"L\",\"L\",\"L\",\"L\",\"M\",\"L\",\"L\",\"M\",\"L\",\"L\",\"L\",\"L\",\"L\",\"L\",\"L\",\"L\",\"S\",\"L\",\"S\",\"L\",\"L\",\"L\",\"L\",\"L\",\"L\",\"L\",\"M\",\"M\",\"S\",\"M\",\"L\",\"M\",\"L\",\"L\",\"L\",\"L\",\"M\",\"S\",\"S\",\"L\",\"M\",\"L\",\"L\",\"L\",\"L\",\"L\",\"L\",\"L\",\"M\",\"M\",\"L\",\"L\",\"L\",\"M\",\"L\",\"L\",\"L\",\"M\",\"L\",\"M\",\"M\",\"S\",\"S\",\"L\",\"L\",\"L\",\"S\",\"M\",\"L\",\"L\",\"L\",\"M\",\"L\",\"M\",\"L\",\"M\",\"L\",\"S\",\"L\",\"L\",\"L\",\"L\",\"L\",\"S\",\"L\",\"L\",\"L\",\"S\",\"L\",\"M\",\"L\",\"L\",\"M\",\"L\",\"L\",\"S\",\"L\",\"M\",\"L\",\"L\",\"L\",\"L\",\"L\",\"L\",\"L\",\"L\",\"L\",\"S\",\"M\",\"M\",\"L\",\"L\",\"L\",\"L\",\"L\",\"L\",\"M\",\"L\",\"L\",\"L\",\"L\",\"L\",\"L\",\"S\",\"L\",\"L\",\"L\",\"M\",\"L\",\"L\",\"L\",\"M\",\"L\",\"L\",\"S\",\"L\",\"S\",\"L\",\"L\",\"L\",\"L\",\"L\",\"L\",\"L\",\"L\",\"M\",\"M\",\"L\",\"S\",\"L\",\"L\",\"L\",\"L\",\"L\",\"M\",\"L\",\"M\",\"L\",\"L\",\"L\",\"L\"],\"x0\":\" \",\"xaxis\":\"x\",\"y\":[72762,123400,88100,163575,115800,42801,136600,109280,211600,182160,211600,182160,145000,120000,112000,64000,105800,81600,210000,140000,12005,160000,125000,119910,72324,94000,59000,177600,131300,120000,211600,182160,207000,139000,207500,125000,230000,140000,95000,154700,131495,95000,70000,120411,64325,235000,205000,154700,131495,121679,114074,202400,125800,125000,160000,150000,140000,125000,110000,121800,81200,74902,125000,105000,207500,125000,110000,181940,132000,106000,28890,46800,137000,137000,210000,160000,228600,153600,146000,122000,228600,153600,182000,153000,110000,228518,153550,188700,103600,227200,149600,28890,157250,133663,170200,125800,168000,134000,202400,125800,150000,130000,63000,95000,70000,48781,120000,315000,220000,140000,75650,360000,50000,85000,90000,50000,290000,232000,244000,112000,72000,64202,6072,53192,116633,152000,91000,128404,207000,300000,115000,99159,52000,237000,150000,110000,104000,75000,165000,190000,135000,117394,97900,90000,175000,89998,150000,115000,135000,102000,108000,200000,89487,50000,157000,108000,148000,130000,120000,64717,150000,6481,184800,130800,101399,76049,114000,207000,153000,245000,98000,220100,176080,226400,124300,145000,50000,53501,50000,50000,42801,238200,176100,181940,132000,186000,148800,252000,145000,236000,8929,167000,175000,49764,86500,128404,200100,160080,165400,132320,207800,153600,29551,88000,180000,210000,160000,250600,118100,105800,81600,140000,267840,214056,187831,135621,116609,80000,60000,60000,60000,60000,115000,10142,101399,69712,170000,140000,175000,180000,101000,101000,175000,97500,67000,124600,96000,292000,170000,160000,140000,180000,140000,245000,190000,226400,124300,49305,91600,165000,160000,92400,103000,154000,139000,160000,120000,63374,82900,63900,75000,75000,89000,68462,72500,276900,168400,105800,81600,177600,131300,120000,90000,145000,105400,220000,140000,175000,130000,21400,60000,80000,200100,160080,135000,100000,195000,170000,108070,91860,207800,153600,102600,82080,160000,110000,149804,107003,128404,85602,192606,149804,256808,192606,152000,91000,200100,160080,193800,62000,160000,120000,192400,90700,150260,109280,175000,90000,200100,160080,130200,106500,146800,118200,165200,133000,165200,133000,146800,118200,115700,94700,60000,50000,210000,160000,144200,132870,175000,120000,180000,80000,91670,63500,180000,90000,42801,26750,165400,132320,184800,148800,207500,125000,165400,132320,145000,118600,152000,91000,210000,160000,157000,108000,175000,90000,101399,82387,220000,165400,184800,148800,145000,118600,165400,132320,165400,132320,160000,130000,115000,100000,131500,111775,221500,104400,210000,160000,140000,90000,165400,132320,60000,50000,267840,214056,201000,160080,172000,87000,141300,102100,141300,88100,120000,30000,222500,135000,300000,250000,210000,160000,168400,148000,165400,132320,200100,160080,220100,176080,177449,152099,65000,55000,230000,190000,182750,153000,210000,140000,207000,153000,182000,153000,220100,176080,120000,90000,60000,50000,276900,104400,192400,90700,210000,160000,208775,147800,157000,108000,152000,91000,200100,160080,111000,200000,20741,58697,220000,150000,271600,122500,129000,260000,145000,135000,13658,126000,122000,48686,80252,140000,150000,172500,120000,259000,180000,250000,105000,104000,192500,5800,38114,190000,100000,10000,224000,125000,120000,10000,44941,215000,260000,45000,58537,50000,149000,107000,140000,181570,127000,50000,18148,130000,135000,135000,325000,100000,150000,130000,135000,100000,85000,180000,150000,55000,175000,70000,200000,410000,76049,90000,201000,196000,137000,180000,250000,128000,150000,150000,180000,130000,127000,108856,96303,58390,51361,87000,53192,2000,130000,100474,98443,150000,160000,150000,38513,55000,260000,50000,90002,145000,135000,88000,84000,120000,146000,84524,55958,15209,60000,175000,160000,200000,130000,112575,84300,50000,85000,171200,66000,270000,84583,70000,63000,60991,77576,96806,110000,53000,55000,180000,61000,69712,99292,2202,54784,106000,77026,98000,125000,19445,59102,160000,23029,109678,150000,76000,145340,310000,58304,69552,121307,99980,145000,79000,120000,210000,125000,115000,225000,40661,40696,267508,899920,153000,43338,180000,120000,107000,20000,65000,150000,72247,305000,500000,125000,64642,140000,297000,46560,96000,130000,126749,98346,67307,39056,87742,129000,155000,125000,73000,170000,160000,70000,98000,143000,83500,120000,120000,20100,240000,97000,220000,287500,150000,120000,157000,208000,100500,175000,150000,72000,125000,190000,65000,160000,90000,360000,200000,37825,120000,34000,84922,50699,165000,173000,109000,126000,230000,112000,130000,130000,58000,69000,145000,61000,70000,126000,71692,145000,75000,74900,65013,87000,65000,53192,143000,165000,74995,139104,130000,125000,112000,119500,220500,70000,172000,118000,153667,58537,9268,73300,143000,300000,105000,253498,42000,34303,43871,105000,70245,130000,35122,49646,40000,118205,137547,218742,70000,85000,181000,224000,55806,35122,220000,33952,93915,211000,110000,200000,170000,135000,189000,173000,249000,140000,135000,73936,600000,100000,102000,60000,183000,190000,130000,130026,175000,16228,150000,155000,141846,74000,46100,112000,255000,170000,173000,130000,150000,200000,101742,76000,88000,50000,80000,131800,99900,110000,160000,128000,130000,125000,310000,55000,138000,142438,101742,63831,103310,60000,99960,5734,30000,110000,68900,116000,99000,85602,47857,44000,52000,115500,78263,71092,104000,74130,70000,68342,131500,99950,76200,100000,100000,145000,120000,100000,320000,75000,150000,81562,120000,115000,91700,82600,146000,135000,185000,220000,68500,111883,115000,97350,94000,93000,130000,74130,114839,100000,79000,130000,129998,75000,155000,47518,75000,100474,200000,93600,96500,100000,205000,122000,96000,72000,50000,50000,61896,177308,13523,48141,27187,140000,85000,92000,103000,70000,31915,65000,180000,59693,88981,216000,90000,95000,70000,150000,130000,175000,220000,106000,120000,75000,35899,96000,75000,88654,43275,43275,65000,80000,91520,255170,135600,61195,53000,72000,169000,121581,99000,100000,130000,97000,68428,65013,90000,85000,90000,85000,66091,75774,123000,80000,170000,77000,63810,375000,59575,135000,148000,180000,90000,63700,89405,117810,200000,56738,63810,134000,119000,140000,175000,85000,180000,320000,75000,127000,45100,124000,90000,240000,240000,80000,82648,27000,87500,110000,98000,102000,72000,239287,124000,119000,175000,180000,63400,45950,123000,80000,120000,150000,47282,135000,130000,100000,23641,49792,70000,130000,73000,34018,49485,92000,145000,135000,53783,150000,60520,75000,66022,68773,150000,90000,79833,102500,130000,85000,120000,600000,141000,66000,60008,272000,80000,51305,31000,119643,100300,150000,119000,192000,102000,240000,63000,98000,70545,100000,80000,72000,75000,80000,67000,130000,67798,120000,76500,160000,200000,142000,180000,120000,40000,85108,150000,100000,34043,111667,187000,43824,104000,79762,65000,128000,120000,105000,120000,145000,43736,78000,125000,130000,130000,141000,120000,90000,172500,90000,93000,57082,62000,240000,195000,120308,59102,90000,95715,49646,105070,116327,75774,12800,11812,98000,2000,85000,37488,120000,120000,70000,75000,101350,60000,85000,100000,76000,135596,105000,100000,65000,48684,122000,80000,60619,131870,99900,80000,82528,79000,186487,64255,78879,76833,136591,126000,50000,75000,103000,138000,42554,123000,80000,115000,61467,100000,100000,275000,78965,80000,210000,66000,95000,160000,21637,65013,55000,106000,202000,36234,50710,71000,11305,9715,114000,81000,148000,79509,110000,20000,77000,130000,142000,174000,100000,130000,134000,45618,170000,120000,70923,53192,90000,52588,150000,80000,108822,65000,21283,85000,135000,54784,77572,100000,72000,127000,140000,125000,55000,90000,150000,80000,26230,82700,39200,106000,120000,51389,200000,170000,107000,159000,73000,146000,72317,4327,32323,77600,75000,180000,51321,63000,13523,100000,60619,35000,118205,108000,130000,62726,106564,34214,170000,41372,4868,132000,50828,90530,10200,150000,54309,59102,285118,4318,100500,94564,89294,280000,172615,134317,450000,60000,110000,40000,80000,140000,30000,115000,52267,140000,59102,200000,165488,140000,140000,64132,2056,88654,51321,59102,3238,94564,195316,70709,82744,44892,169525,54727,19858,29652,59304,50831,60000,96198,140000,34157,82744,34414,192396,39007,82114,90000,82744,100000,136856,8223,66195,13523,5337,73287,62726,60284,83415,66147,300000,20285,80100,175000,2764,82000,132000,105000,106000,131154,115000,143000,289000,135090,115000,252000,79810,135000,190000,48000,140000,127248,123792,56662,203000,38776,140400,110000,172000,88500,76960,145000,109000,63866,85000,75000,206620,140000,169781,110000,85000,108000,109024,125000,133000,126000,49040,260000,51774,105000,133900,75000,118903,89000,400000,205000,198000,60284,125452,216690,57920,86000,65000,149000,140000,116000,81000,115000,128000,71849,114047,122750,144000,102611,100000,110000,35000,65000,170000,135000,100000,456621,96422,82528,126000,57769,66310],\"y0\":\" \",\"yaxis\":\"y\",\"type\":\"box\"}],                        {\"template\":{\"data\":{\"histogram2dcontour\":[{\"type\":\"histogram2dcontour\",\"colorbar\":{\"outlinewidth\":0,\"ticks\":\"\"},\"colorscale\":[[0.0,\"#0d0887\"],[0.1111111111111111,\"#46039f\"],[0.2222222222222222,\"#7201a8\"],[0.3333333333333333,\"#9c179e\"],[0.4444444444444444,\"#bd3786\"],[0.5555555555555556,\"#d8576b\"],[0.6666666666666666,\"#ed7953\"],[0.7777777777777778,\"#fb9f3a\"],[0.8888888888888888,\"#fdca26\"],[1.0,\"#f0f921\"]]}],\"choropleth\":[{\"type\":\"choropleth\",\"colorbar\":{\"outlinewidth\":0,\"ticks\":\"\"}}],\"histogram2d\":[{\"type\":\"histogram2d\",\"colorbar\":{\"outlinewidth\":0,\"ticks\":\"\"},\"colorscale\":[[0.0,\"#0d0887\"],[0.1111111111111111,\"#46039f\"],[0.2222222222222222,\"#7201a8\"],[0.3333333333333333,\"#9c179e\"],[0.4444444444444444,\"#bd3786\"],[0.5555555555555556,\"#d8576b\"],[0.6666666666666666,\"#ed7953\"],[0.7777777777777778,\"#fb9f3a\"],[0.8888888888888888,\"#fdca26\"],[1.0,\"#f0f921\"]]}],\"heatmap\":[{\"type\":\"heatmap\",\"colorbar\":{\"outlinewidth\":0,\"ticks\":\"\"},\"colorscale\":[[0.0,\"#0d0887\"],[0.1111111111111111,\"#46039f\"],[0.2222222222222222,\"#7201a8\"],[0.3333333333333333,\"#9c179e\"],[0.4444444444444444,\"#bd3786\"],[0.5555555555555556,\"#d8576b\"],[0.6666666666666666,\"#ed7953\"],[0.7777777777777778,\"#fb9f3a\"],[0.8888888888888888,\"#fdca26\"],[1.0,\"#f0f921\"]]}],\"heatmapgl\":[{\"type\":\"heatmapgl\",\"colorbar\":{\"outlinewidth\":0,\"ticks\":\"\"},\"colorscale\":[[0.0,\"#0d0887\"],[0.1111111111111111,\"#46039f\"],[0.2222222222222222,\"#7201a8\"],[0.3333333333333333,\"#9c179e\"],[0.4444444444444444,\"#bd3786\"],[0.5555555555555556,\"#d8576b\"],[0.6666666666666666,\"#ed7953\"],[0.7777777777777778,\"#fb9f3a\"],[0.8888888888888888,\"#fdca26\"],[1.0,\"#f0f921\"]]}],\"contourcarpet\":[{\"type\":\"contourcarpet\",\"colorbar\":{\"outlinewidth\":0,\"ticks\":\"\"}}],\"contour\":[{\"type\":\"contour\",\"colorbar\":{\"outlinewidth\":0,\"ticks\":\"\"},\"colorscale\":[[0.0,\"#0d0887\"],[0.1111111111111111,\"#46039f\"],[0.2222222222222222,\"#7201a8\"],[0.3333333333333333,\"#9c179e\"],[0.4444444444444444,\"#bd3786\"],[0.5555555555555556,\"#d8576b\"],[0.6666666666666666,\"#ed7953\"],[0.7777777777777778,\"#fb9f3a\"],[0.8888888888888888,\"#fdca26\"],[1.0,\"#f0f921\"]]}],\"surface\":[{\"type\":\"surface\",\"colorbar\":{\"outlinewidth\":0,\"ticks\":\"\"},\"colorscale\":[[0.0,\"#0d0887\"],[0.1111111111111111,\"#46039f\"],[0.2222222222222222,\"#7201a8\"],[0.3333333333333333,\"#9c179e\"],[0.4444444444444444,\"#bd3786\"],[0.5555555555555556,\"#d8576b\"],[0.6666666666666666,\"#ed7953\"],[0.7777777777777778,\"#fb9f3a\"],[0.8888888888888888,\"#fdca26\"],[1.0,\"#f0f921\"]]}],\"mesh3d\":[{\"type\":\"mesh3d\",\"colorbar\":{\"outlinewidth\":0,\"ticks\":\"\"}}],\"scatter\":[{\"fillpattern\":{\"fillmode\":\"overlay\",\"size\":10,\"solidity\":0.2},\"type\":\"scatter\"}],\"parcoords\":[{\"type\":\"parcoords\",\"line\":{\"colorbar\":{\"outlinewidth\":0,\"ticks\":\"\"}}}],\"scatterpolargl\":[{\"type\":\"scatterpolargl\",\"marker\":{\"colorbar\":{\"outlinewidth\":0,\"ticks\":\"\"}}}],\"bar\":[{\"error_x\":{\"color\":\"#2a3f5f\"},\"error_y\":{\"color\":\"#2a3f5f\"},\"marker\":{\"line\":{\"color\":\"#E5ECF6\",\"width\":0.5},\"pattern\":{\"fillmode\":\"overlay\",\"size\":10,\"solidity\":0.2}},\"type\":\"bar\"}],\"scattergeo\":[{\"type\":\"scattergeo\",\"marker\":{\"colorbar\":{\"outlinewidth\":0,\"ticks\":\"\"}}}],\"scatterpolar\":[{\"type\":\"scatterpolar\",\"marker\":{\"colorbar\":{\"outlinewidth\":0,\"ticks\":\"\"}}}],\"histogram\":[{\"marker\":{\"pattern\":{\"fillmode\":\"overlay\",\"size\":10,\"solidity\":0.2}},\"type\":\"histogram\"}],\"scattergl\":[{\"type\":\"scattergl\",\"marker\":{\"colorbar\":{\"outlinewidth\":0,\"ticks\":\"\"}}}],\"scatter3d\":[{\"type\":\"scatter3d\",\"line\":{\"colorbar\":{\"outlinewidth\":0,\"ticks\":\"\"}},\"marker\":{\"colorbar\":{\"outlinewidth\":0,\"ticks\":\"\"}}}],\"scattermapbox\":[{\"type\":\"scattermapbox\",\"marker\":{\"colorbar\":{\"outlinewidth\":0,\"ticks\":\"\"}}}],\"scatterternary\":[{\"type\":\"scatterternary\",\"marker\":{\"colorbar\":{\"outlinewidth\":0,\"ticks\":\"\"}}}],\"scattercarpet\":[{\"type\":\"scattercarpet\",\"marker\":{\"colorbar\":{\"outlinewidth\":0,\"ticks\":\"\"}}}],\"carpet\":[{\"aaxis\":{\"endlinecolor\":\"#2a3f5f\",\"gridcolor\":\"white\",\"linecolor\":\"white\",\"minorgridcolor\":\"white\",\"startlinecolor\":\"#2a3f5f\"},\"baxis\":{\"endlinecolor\":\"#2a3f5f\",\"gridcolor\":\"white\",\"linecolor\":\"white\",\"minorgridcolor\":\"white\",\"startlinecolor\":\"#2a3f5f\"},\"type\":\"carpet\"}],\"table\":[{\"cells\":{\"fill\":{\"color\":\"#EBF0F8\"},\"line\":{\"color\":\"white\"}},\"header\":{\"fill\":{\"color\":\"#C8D4E3\"},\"line\":{\"color\":\"white\"}},\"type\":\"table\"}],\"barpolar\":[{\"marker\":{\"line\":{\"color\":\"#E5ECF6\",\"width\":0.5},\"pattern\":{\"fillmode\":\"overlay\",\"size\":10,\"solidity\":0.2}},\"type\":\"barpolar\"}],\"pie\":[{\"automargin\":true,\"type\":\"pie\"}]},\"layout\":{\"autotypenumbers\":\"strict\",\"colorway\":[\"#636efa\",\"#EF553B\",\"#00cc96\",\"#ab63fa\",\"#FFA15A\",\"#19d3f3\",\"#FF6692\",\"#B6E880\",\"#FF97FF\",\"#FECB52\"],\"font\":{\"color\":\"#2a3f5f\"},\"hovermode\":\"closest\",\"hoverlabel\":{\"align\":\"left\"},\"paper_bgcolor\":\"white\",\"plot_bgcolor\":\"#E5ECF6\",\"polar\":{\"bgcolor\":\"#E5ECF6\",\"angularaxis\":{\"gridcolor\":\"white\",\"linecolor\":\"white\",\"ticks\":\"\"},\"radialaxis\":{\"gridcolor\":\"white\",\"linecolor\":\"white\",\"ticks\":\"\"}},\"ternary\":{\"bgcolor\":\"#E5ECF6\",\"aaxis\":{\"gridcolor\":\"white\",\"linecolor\":\"white\",\"ticks\":\"\"},\"baxis\":{\"gridcolor\":\"white\",\"linecolor\":\"white\",\"ticks\":\"\"},\"caxis\":{\"gridcolor\":\"white\",\"linecolor\":\"white\",\"ticks\":\"\"}},\"coloraxis\":{\"colorbar\":{\"outlinewidth\":0,\"ticks\":\"\"}},\"colorscale\":{\"sequential\":[[0.0,\"#0d0887\"],[0.1111111111111111,\"#46039f\"],[0.2222222222222222,\"#7201a8\"],[0.3333333333333333,\"#9c179e\"],[0.4444444444444444,\"#bd3786\"],[0.5555555555555556,\"#d8576b\"],[0.6666666666666666,\"#ed7953\"],[0.7777777777777778,\"#fb9f3a\"],[0.8888888888888888,\"#fdca26\"],[1.0,\"#f0f921\"]],\"sequentialminus\":[[0.0,\"#0d0887\"],[0.1111111111111111,\"#46039f\"],[0.2222222222222222,\"#7201a8\"],[0.3333333333333333,\"#9c179e\"],[0.4444444444444444,\"#bd3786\"],[0.5555555555555556,\"#d8576b\"],[0.6666666666666666,\"#ed7953\"],[0.7777777777777778,\"#fb9f3a\"],[0.8888888888888888,\"#fdca26\"],[1.0,\"#f0f921\"]],\"diverging\":[[0,\"#8e0152\"],[0.1,\"#c51b7d\"],[0.2,\"#de77ae\"],[0.3,\"#f1b6da\"],[0.4,\"#fde0ef\"],[0.5,\"#f7f7f7\"],[0.6,\"#e6f5d0\"],[0.7,\"#b8e186\"],[0.8,\"#7fbc41\"],[0.9,\"#4d9221\"],[1,\"#276419\"]]},\"xaxis\":{\"gridcolor\":\"white\",\"linecolor\":\"white\",\"ticks\":\"\",\"title\":{\"standoff\":15},\"zerolinecolor\":\"white\",\"automargin\":true,\"zerolinewidth\":2},\"yaxis\":{\"gridcolor\":\"white\",\"linecolor\":\"white\",\"ticks\":\"\",\"title\":{\"standoff\":15},\"zerolinecolor\":\"white\",\"automargin\":true,\"zerolinewidth\":2},\"scene\":{\"xaxis\":{\"backgroundcolor\":\"#E5ECF6\",\"gridcolor\":\"white\",\"linecolor\":\"white\",\"showbackground\":true,\"ticks\":\"\",\"zerolinecolor\":\"white\",\"gridwidth\":2},\"yaxis\":{\"backgroundcolor\":\"#E5ECF6\",\"gridcolor\":\"white\",\"linecolor\":\"white\",\"showbackground\":true,\"ticks\":\"\",\"zerolinecolor\":\"white\",\"gridwidth\":2},\"zaxis\":{\"backgroundcolor\":\"#E5ECF6\",\"gridcolor\":\"white\",\"linecolor\":\"white\",\"showbackground\":true,\"ticks\":\"\",\"zerolinecolor\":\"white\",\"gridwidth\":2}},\"shapedefaults\":{\"line\":{\"color\":\"#2a3f5f\"}},\"annotationdefaults\":{\"arrowcolor\":\"#2a3f5f\",\"arrowhead\":0,\"arrowwidth\":1},\"geo\":{\"bgcolor\":\"white\",\"landcolor\":\"#E5ECF6\",\"subunitcolor\":\"white\",\"showland\":true,\"showlakes\":true,\"lakecolor\":\"white\"},\"title\":{\"x\":0.05},\"mapbox\":{\"style\":\"light\"}}},\"xaxis\":{\"anchor\":\"y\",\"domain\":[0.0,1.0],\"title\":{\"text\":\"Company Size\"}},\"yaxis\":{\"anchor\":\"x\",\"domain\":[0.0,1.0],\"title\":{\"text\":\"Salary (USD)\"}},\"legend\":{\"tracegroupgap\":0},\"title\":{\"text\":\"Company Size vs. Salary\"},\"boxmode\":\"group\"},                        {\"responsive\": true}                    ).then(function(){\n",
       "                            \n",
       "var gd = document.getElementById('f2efd31f-f5c1-46d0-91a0-331b0da56a62');\n",
       "var x = new MutationObserver(function (mutations, observer) {{\n",
       "        var display = window.getComputedStyle(gd).display;\n",
       "        if (!display || display === 'none') {{\n",
       "            console.log([gd, 'removed!']);\n",
       "            Plotly.purge(gd);\n",
       "            observer.disconnect();\n",
       "        }}\n",
       "}});\n",
       "\n",
       "// Listen for the removal of the full notebook cells\n",
       "var notebookContainer = gd.closest('#notebook-container');\n",
       "if (notebookContainer) {{\n",
       "    x.observe(notebookContainer, {childList: true});\n",
       "}}\n",
       "\n",
       "// Listen for the clearing of the current output cell\n",
       "var outputEl = gd.closest('.output');\n",
       "if (outputEl) {{\n",
       "    x.observe(outputEl, {childList: true});\n",
       "}}\n",
       "\n",
       "                        })                };                });            </script>        </div>"
      ]
     },
     "metadata": {},
     "output_type": "display_data"
    }
   ],
   "source": [
    "fig = px.box(df, x=\"company_size\", y=\"salary_in_usd\", points=\"all\", title=\"Company Size vs. Salary\")\n",
    "fig.update_xaxes(title=\"Company Size\")\n",
    "fig.update_yaxes(title=\"Salary (USD)\")\n",
    "fig.show()"
   ]
  },
  {
   "cell_type": "code",
   "execution_count": 44,
   "metadata": {},
   "outputs": [
    {
     "data": {
      "text/html": [
       "<div>\n",
       "<style scoped>\n",
       "    .dataframe tbody tr th:only-of-type {\n",
       "        vertical-align: middle;\n",
       "    }\n",
       "\n",
       "    .dataframe tbody tr th {\n",
       "        vertical-align: top;\n",
       "    }\n",
       "\n",
       "    .dataframe thead th {\n",
       "        text-align: right;\n",
       "    }\n",
       "</style>\n",
       "<table border=\"1\" class=\"dataframe\">\n",
       "  <thead>\n",
       "    <tr style=\"text-align: right;\">\n",
       "      <th></th>\n",
       "      <th>work_year</th>\n",
       "      <th>experience_level</th>\n",
       "      <th>employment_type</th>\n",
       "      <th>job_title</th>\n",
       "      <th>salary</th>\n",
       "      <th>salary_currency</th>\n",
       "      <th>salary_in_usd</th>\n",
       "      <th>employee_residence</th>\n",
       "      <th>remote_ratio</th>\n",
       "      <th>company_location</th>\n",
       "      <th>company_size</th>\n",
       "    </tr>\n",
       "  </thead>\n",
       "  <tbody>\n",
       "    <tr>\n",
       "      <th>1344</th>\n",
       "      <td>2020</td>\n",
       "      <td>MI</td>\n",
       "      <td>FT</td>\n",
       "      <td>Cyber Security Analyst</td>\n",
       "      <td>140000</td>\n",
       "      <td>AUD</td>\n",
       "      <td>96422</td>\n",
       "      <td>AU</td>\n",
       "      <td>50</td>\n",
       "      <td>AU</td>\n",
       "      <td>M</td>\n",
       "    </tr>\n",
       "    <tr>\n",
       "      <th>1345</th>\n",
       "      <td>2021</td>\n",
       "      <td>SE</td>\n",
       "      <td>FT</td>\n",
       "      <td>Information Security Manager</td>\n",
       "      <td>60000</td>\n",
       "      <td>GBP</td>\n",
       "      <td>82528</td>\n",
       "      <td>GB</td>\n",
       "      <td>50</td>\n",
       "      <td>GB</td>\n",
       "      <td>L</td>\n",
       "    </tr>\n",
       "    <tr>\n",
       "      <th>1346</th>\n",
       "      <td>2021</td>\n",
       "      <td>SE</td>\n",
       "      <td>FT</td>\n",
       "      <td>Penetration Testing Engineer</td>\n",
       "      <td>126000</td>\n",
       "      <td>USD</td>\n",
       "      <td>126000</td>\n",
       "      <td>US</td>\n",
       "      <td>100</td>\n",
       "      <td>US</td>\n",
       "      <td>L</td>\n",
       "    </tr>\n",
       "    <tr>\n",
       "      <th>1347</th>\n",
       "      <td>2021</td>\n",
       "      <td>MI</td>\n",
       "      <td>FT</td>\n",
       "      <td>Information Security Analyst</td>\n",
       "      <td>42000</td>\n",
       "      <td>GBP</td>\n",
       "      <td>57769</td>\n",
       "      <td>GB</td>\n",
       "      <td>100</td>\n",
       "      <td>GB</td>\n",
       "      <td>L</td>\n",
       "    </tr>\n",
       "    <tr>\n",
       "      <th>1348</th>\n",
       "      <td>2021</td>\n",
       "      <td>MI</td>\n",
       "      <td>FT</td>\n",
       "      <td>Threat Intelligence Analyst</td>\n",
       "      <td>66310</td>\n",
       "      <td>USD</td>\n",
       "      <td>66310</td>\n",
       "      <td>US</td>\n",
       "      <td>0</td>\n",
       "      <td>US</td>\n",
       "      <td>L</td>\n",
       "    </tr>\n",
       "  </tbody>\n",
       "</table>\n",
       "</div>"
      ],
      "text/plain": [
       "      work_year experience_level employment_type  \\\n",
       "1344       2020               MI              FT   \n",
       "1345       2021               SE              FT   \n",
       "1346       2021               SE              FT   \n",
       "1347       2021               MI              FT   \n",
       "1348       2021               MI              FT   \n",
       "\n",
       "                         job_title  salary salary_currency  salary_in_usd  \\\n",
       "1344        Cyber Security Analyst  140000             AUD          96422   \n",
       "1345  Information Security Manager   60000             GBP          82528   \n",
       "1346  Penetration Testing Engineer  126000             USD         126000   \n",
       "1347  Information Security Analyst   42000             GBP          57769   \n",
       "1348   Threat Intelligence Analyst   66310             USD          66310   \n",
       "\n",
       "     employee_residence  remote_ratio company_location company_size  \n",
       "1344                 AU            50               AU            M  \n",
       "1345                 GB            50               GB            L  \n",
       "1346                 US           100               US            L  \n",
       "1347                 GB           100               GB            L  \n",
       "1348                 US             0               US            L  "
      ]
     },
     "execution_count": 44,
     "metadata": {},
     "output_type": "execute_result"
    }
   ],
   "source": [
    "df.tail(5)"
   ]
  },
  {
   "cell_type": "markdown",
   "metadata": {},
   "source": [
    "## Bar plot to visualize Geographical distribution of salaries"
   ]
  },
  {
   "cell_type": "code",
   "execution_count": 46,
   "metadata": {},
   "outputs": [
    {
     "data": {
      "application/vnd.plotly.v1+json": {
       "config": {
        "plotlyServerURL": "https://plot.ly"
       },
       "data": [
        {
         "alignmentgroup": "True",
         "hovertemplate": "Country=%{x}<br>Average Salary (USD)=%{y}<extra></extra>",
         "legendgroup": "",
         "marker": {
          "color": "#636efa",
          "pattern": {
           "shape": ""
          }
         },
         "name": "",
         "offsetgroup": "",
         "orientation": "v",
         "showlegend": false,
         "textposition": "auto",
         "type": "bar",
         "x": [
          "AE",
          "AF",
          "AQ",
          "AR",
          "AT",
          "AU",
          "AX",
          "AZ",
          "BA",
          "BE",
          "BR",
          "BW",
          "CA",
          "CH",
          "CL",
          "CY",
          "CZ",
          "DE",
          "DK",
          "DZ",
          "EE",
          "EG",
          "ES",
          "ET",
          "FR",
          "GB",
          "GR",
          "HR",
          "HU",
          "ID",
          "IE",
          "IL",
          "IN",
          "IT",
          "JP",
          "KE",
          "LU",
          "MX",
          "NL",
          "NO",
          "NZ",
          "PK",
          "PL",
          "PT",
          "RO",
          "RS",
          "RU",
          "SA",
          "SE",
          "SG",
          "SI",
          "TR",
          "TW",
          "UM",
          "US",
          "VN",
          "ZA"
         ],
         "xaxis": "x",
         "y": [
          170000,
          90000,
          58537,
          50666.666666666664,
          63240,
          128527.52380952382,
          50000,
          5800,
          12005,
          60768,
          47269.25,
          120000,
          119605.73770491804,
          122022.35714285714,
          50000,
          42801,
          42000,
          82350.85294117648,
          60427.166666666664,
          10100,
          47873,
          12800,
          52942.153846153844,
          2202,
          83318,
          112420.80327868853,
          30150.6,
          50000,
          47509,
          34303,
          79081.2,
          116414.33333333333,
          34249.82608695652,
          68911.625,
          91250,
          100000,
          49646,
          23029,
          75069.38461538461,
          100030,
          78282.8,
          20000,
          63850.8,
          48115.625,
          32513.75,
          80000,
          120691,
          100000,
          54598.5,
          125555.75,
          50340.75,
          35000,
          11812,
          95715,
          135559.56683937824,
          2000,
          39944.666666666664
         ],
         "yaxis": "y"
        }
       ],
       "layout": {
        "barmode": "relative",
        "legend": {
         "tracegroupgap": 0
        },
        "template": {
         "data": {
          "bar": [
           {
            "error_x": {
             "color": "#2a3f5f"
            },
            "error_y": {
             "color": "#2a3f5f"
            },
            "marker": {
             "line": {
              "color": "#E5ECF6",
              "width": 0.5
             },
             "pattern": {
              "fillmode": "overlay",
              "size": 10,
              "solidity": 0.2
             }
            },
            "type": "bar"
           }
          ],
          "barpolar": [
           {
            "marker": {
             "line": {
              "color": "#E5ECF6",
              "width": 0.5
             },
             "pattern": {
              "fillmode": "overlay",
              "size": 10,
              "solidity": 0.2
             }
            },
            "type": "barpolar"
           }
          ],
          "carpet": [
           {
            "aaxis": {
             "endlinecolor": "#2a3f5f",
             "gridcolor": "white",
             "linecolor": "white",
             "minorgridcolor": "white",
             "startlinecolor": "#2a3f5f"
            },
            "baxis": {
             "endlinecolor": "#2a3f5f",
             "gridcolor": "white",
             "linecolor": "white",
             "minorgridcolor": "white",
             "startlinecolor": "#2a3f5f"
            },
            "type": "carpet"
           }
          ],
          "choropleth": [
           {
            "colorbar": {
             "outlinewidth": 0,
             "ticks": ""
            },
            "type": "choropleth"
           }
          ],
          "contour": [
           {
            "colorbar": {
             "outlinewidth": 0,
             "ticks": ""
            },
            "colorscale": [
             [
              0,
              "#0d0887"
             ],
             [
              0.1111111111111111,
              "#46039f"
             ],
             [
              0.2222222222222222,
              "#7201a8"
             ],
             [
              0.3333333333333333,
              "#9c179e"
             ],
             [
              0.4444444444444444,
              "#bd3786"
             ],
             [
              0.5555555555555556,
              "#d8576b"
             ],
             [
              0.6666666666666666,
              "#ed7953"
             ],
             [
              0.7777777777777778,
              "#fb9f3a"
             ],
             [
              0.8888888888888888,
              "#fdca26"
             ],
             [
              1,
              "#f0f921"
             ]
            ],
            "type": "contour"
           }
          ],
          "contourcarpet": [
           {
            "colorbar": {
             "outlinewidth": 0,
             "ticks": ""
            },
            "type": "contourcarpet"
           }
          ],
          "heatmap": [
           {
            "colorbar": {
             "outlinewidth": 0,
             "ticks": ""
            },
            "colorscale": [
             [
              0,
              "#0d0887"
             ],
             [
              0.1111111111111111,
              "#46039f"
             ],
             [
              0.2222222222222222,
              "#7201a8"
             ],
             [
              0.3333333333333333,
              "#9c179e"
             ],
             [
              0.4444444444444444,
              "#bd3786"
             ],
             [
              0.5555555555555556,
              "#d8576b"
             ],
             [
              0.6666666666666666,
              "#ed7953"
             ],
             [
              0.7777777777777778,
              "#fb9f3a"
             ],
             [
              0.8888888888888888,
              "#fdca26"
             ],
             [
              1,
              "#f0f921"
             ]
            ],
            "type": "heatmap"
           }
          ],
          "heatmapgl": [
           {
            "colorbar": {
             "outlinewidth": 0,
             "ticks": ""
            },
            "colorscale": [
             [
              0,
              "#0d0887"
             ],
             [
              0.1111111111111111,
              "#46039f"
             ],
             [
              0.2222222222222222,
              "#7201a8"
             ],
             [
              0.3333333333333333,
              "#9c179e"
             ],
             [
              0.4444444444444444,
              "#bd3786"
             ],
             [
              0.5555555555555556,
              "#d8576b"
             ],
             [
              0.6666666666666666,
              "#ed7953"
             ],
             [
              0.7777777777777778,
              "#fb9f3a"
             ],
             [
              0.8888888888888888,
              "#fdca26"
             ],
             [
              1,
              "#f0f921"
             ]
            ],
            "type": "heatmapgl"
           }
          ],
          "histogram": [
           {
            "marker": {
             "pattern": {
              "fillmode": "overlay",
              "size": 10,
              "solidity": 0.2
             }
            },
            "type": "histogram"
           }
          ],
          "histogram2d": [
           {
            "colorbar": {
             "outlinewidth": 0,
             "ticks": ""
            },
            "colorscale": [
             [
              0,
              "#0d0887"
             ],
             [
              0.1111111111111111,
              "#46039f"
             ],
             [
              0.2222222222222222,
              "#7201a8"
             ],
             [
              0.3333333333333333,
              "#9c179e"
             ],
             [
              0.4444444444444444,
              "#bd3786"
             ],
             [
              0.5555555555555556,
              "#d8576b"
             ],
             [
              0.6666666666666666,
              "#ed7953"
             ],
             [
              0.7777777777777778,
              "#fb9f3a"
             ],
             [
              0.8888888888888888,
              "#fdca26"
             ],
             [
              1,
              "#f0f921"
             ]
            ],
            "type": "histogram2d"
           }
          ],
          "histogram2dcontour": [
           {
            "colorbar": {
             "outlinewidth": 0,
             "ticks": ""
            },
            "colorscale": [
             [
              0,
              "#0d0887"
             ],
             [
              0.1111111111111111,
              "#46039f"
             ],
             [
              0.2222222222222222,
              "#7201a8"
             ],
             [
              0.3333333333333333,
              "#9c179e"
             ],
             [
              0.4444444444444444,
              "#bd3786"
             ],
             [
              0.5555555555555556,
              "#d8576b"
             ],
             [
              0.6666666666666666,
              "#ed7953"
             ],
             [
              0.7777777777777778,
              "#fb9f3a"
             ],
             [
              0.8888888888888888,
              "#fdca26"
             ],
             [
              1,
              "#f0f921"
             ]
            ],
            "type": "histogram2dcontour"
           }
          ],
          "mesh3d": [
           {
            "colorbar": {
             "outlinewidth": 0,
             "ticks": ""
            },
            "type": "mesh3d"
           }
          ],
          "parcoords": [
           {
            "line": {
             "colorbar": {
              "outlinewidth": 0,
              "ticks": ""
             }
            },
            "type": "parcoords"
           }
          ],
          "pie": [
           {
            "automargin": true,
            "type": "pie"
           }
          ],
          "scatter": [
           {
            "fillpattern": {
             "fillmode": "overlay",
             "size": 10,
             "solidity": 0.2
            },
            "type": "scatter"
           }
          ],
          "scatter3d": [
           {
            "line": {
             "colorbar": {
              "outlinewidth": 0,
              "ticks": ""
             }
            },
            "marker": {
             "colorbar": {
              "outlinewidth": 0,
              "ticks": ""
             }
            },
            "type": "scatter3d"
           }
          ],
          "scattercarpet": [
           {
            "marker": {
             "colorbar": {
              "outlinewidth": 0,
              "ticks": ""
             }
            },
            "type": "scattercarpet"
           }
          ],
          "scattergeo": [
           {
            "marker": {
             "colorbar": {
              "outlinewidth": 0,
              "ticks": ""
             }
            },
            "type": "scattergeo"
           }
          ],
          "scattergl": [
           {
            "marker": {
             "colorbar": {
              "outlinewidth": 0,
              "ticks": ""
             }
            },
            "type": "scattergl"
           }
          ],
          "scattermapbox": [
           {
            "marker": {
             "colorbar": {
              "outlinewidth": 0,
              "ticks": ""
             }
            },
            "type": "scattermapbox"
           }
          ],
          "scatterpolar": [
           {
            "marker": {
             "colorbar": {
              "outlinewidth": 0,
              "ticks": ""
             }
            },
            "type": "scatterpolar"
           }
          ],
          "scatterpolargl": [
           {
            "marker": {
             "colorbar": {
              "outlinewidth": 0,
              "ticks": ""
             }
            },
            "type": "scatterpolargl"
           }
          ],
          "scatterternary": [
           {
            "marker": {
             "colorbar": {
              "outlinewidth": 0,
              "ticks": ""
             }
            },
            "type": "scatterternary"
           }
          ],
          "surface": [
           {
            "colorbar": {
             "outlinewidth": 0,
             "ticks": ""
            },
            "colorscale": [
             [
              0,
              "#0d0887"
             ],
             [
              0.1111111111111111,
              "#46039f"
             ],
             [
              0.2222222222222222,
              "#7201a8"
             ],
             [
              0.3333333333333333,
              "#9c179e"
             ],
             [
              0.4444444444444444,
              "#bd3786"
             ],
             [
              0.5555555555555556,
              "#d8576b"
             ],
             [
              0.6666666666666666,
              "#ed7953"
             ],
             [
              0.7777777777777778,
              "#fb9f3a"
             ],
             [
              0.8888888888888888,
              "#fdca26"
             ],
             [
              1,
              "#f0f921"
             ]
            ],
            "type": "surface"
           }
          ],
          "table": [
           {
            "cells": {
             "fill": {
              "color": "#EBF0F8"
             },
             "line": {
              "color": "white"
             }
            },
            "header": {
             "fill": {
              "color": "#C8D4E3"
             },
             "line": {
              "color": "white"
             }
            },
            "type": "table"
           }
          ]
         },
         "layout": {
          "annotationdefaults": {
           "arrowcolor": "#2a3f5f",
           "arrowhead": 0,
           "arrowwidth": 1
          },
          "autotypenumbers": "strict",
          "coloraxis": {
           "colorbar": {
            "outlinewidth": 0,
            "ticks": ""
           }
          },
          "colorscale": {
           "diverging": [
            [
             0,
             "#8e0152"
            ],
            [
             0.1,
             "#c51b7d"
            ],
            [
             0.2,
             "#de77ae"
            ],
            [
             0.3,
             "#f1b6da"
            ],
            [
             0.4,
             "#fde0ef"
            ],
            [
             0.5,
             "#f7f7f7"
            ],
            [
             0.6,
             "#e6f5d0"
            ],
            [
             0.7,
             "#b8e186"
            ],
            [
             0.8,
             "#7fbc41"
            ],
            [
             0.9,
             "#4d9221"
            ],
            [
             1,
             "#276419"
            ]
           ],
           "sequential": [
            [
             0,
             "#0d0887"
            ],
            [
             0.1111111111111111,
             "#46039f"
            ],
            [
             0.2222222222222222,
             "#7201a8"
            ],
            [
             0.3333333333333333,
             "#9c179e"
            ],
            [
             0.4444444444444444,
             "#bd3786"
            ],
            [
             0.5555555555555556,
             "#d8576b"
            ],
            [
             0.6666666666666666,
             "#ed7953"
            ],
            [
             0.7777777777777778,
             "#fb9f3a"
            ],
            [
             0.8888888888888888,
             "#fdca26"
            ],
            [
             1,
             "#f0f921"
            ]
           ],
           "sequentialminus": [
            [
             0,
             "#0d0887"
            ],
            [
             0.1111111111111111,
             "#46039f"
            ],
            [
             0.2222222222222222,
             "#7201a8"
            ],
            [
             0.3333333333333333,
             "#9c179e"
            ],
            [
             0.4444444444444444,
             "#bd3786"
            ],
            [
             0.5555555555555556,
             "#d8576b"
            ],
            [
             0.6666666666666666,
             "#ed7953"
            ],
            [
             0.7777777777777778,
             "#fb9f3a"
            ],
            [
             0.8888888888888888,
             "#fdca26"
            ],
            [
             1,
             "#f0f921"
            ]
           ]
          },
          "colorway": [
           "#636efa",
           "#EF553B",
           "#00cc96",
           "#ab63fa",
           "#FFA15A",
           "#19d3f3",
           "#FF6692",
           "#B6E880",
           "#FF97FF",
           "#FECB52"
          ],
          "font": {
           "color": "#2a3f5f"
          },
          "geo": {
           "bgcolor": "white",
           "lakecolor": "white",
           "landcolor": "#E5ECF6",
           "showlakes": true,
           "showland": true,
           "subunitcolor": "white"
          },
          "hoverlabel": {
           "align": "left"
          },
          "hovermode": "closest",
          "mapbox": {
           "style": "light"
          },
          "paper_bgcolor": "white",
          "plot_bgcolor": "#E5ECF6",
          "polar": {
           "angularaxis": {
            "gridcolor": "white",
            "linecolor": "white",
            "ticks": ""
           },
           "bgcolor": "#E5ECF6",
           "radialaxis": {
            "gridcolor": "white",
            "linecolor": "white",
            "ticks": ""
           }
          },
          "scene": {
           "xaxis": {
            "backgroundcolor": "#E5ECF6",
            "gridcolor": "white",
            "gridwidth": 2,
            "linecolor": "white",
            "showbackground": true,
            "ticks": "",
            "zerolinecolor": "white"
           },
           "yaxis": {
            "backgroundcolor": "#E5ECF6",
            "gridcolor": "white",
            "gridwidth": 2,
            "linecolor": "white",
            "showbackground": true,
            "ticks": "",
            "zerolinecolor": "white"
           },
           "zaxis": {
            "backgroundcolor": "#E5ECF6",
            "gridcolor": "white",
            "gridwidth": 2,
            "linecolor": "white",
            "showbackground": true,
            "ticks": "",
            "zerolinecolor": "white"
           }
          },
          "shapedefaults": {
           "line": {
            "color": "#2a3f5f"
           }
          },
          "ternary": {
           "aaxis": {
            "gridcolor": "white",
            "linecolor": "white",
            "ticks": ""
           },
           "baxis": {
            "gridcolor": "white",
            "linecolor": "white",
            "ticks": ""
           },
           "bgcolor": "#E5ECF6",
           "caxis": {
            "gridcolor": "white",
            "linecolor": "white",
            "ticks": ""
           }
          },
          "title": {
           "x": 0.05
          },
          "xaxis": {
           "automargin": true,
           "gridcolor": "white",
           "linecolor": "white",
           "ticks": "",
           "title": {
            "standoff": 15
           },
           "zerolinecolor": "white",
           "zerolinewidth": 2
          },
          "yaxis": {
           "automargin": true,
           "gridcolor": "white",
           "linecolor": "white",
           "ticks": "",
           "title": {
            "standoff": 15
           },
           "zerolinecolor": "white",
           "zerolinewidth": 2
          }
         }
        },
        "title": {
         "text": "Average Salary by Country"
        },
        "xaxis": {
         "anchor": "y",
         "domain": [
          0,
          1
         ],
         "title": {
          "text": "Country"
         }
        },
        "yaxis": {
         "anchor": "x",
         "domain": [
          0,
          1
         ],
         "title": {
          "text": "Average Salary (USD)"
         }
        }
       }
      },
      "text/html": [
       "<div>                            <div id=\"ca319469-e9a0-4f43-94fb-4a2109f3f7ae\" class=\"plotly-graph-div\" style=\"height:525px; width:100%;\"></div>            <script type=\"text/javascript\">                require([\"plotly\"], function(Plotly) {                    window.PLOTLYENV=window.PLOTLYENV || {};                                    if (document.getElementById(\"ca319469-e9a0-4f43-94fb-4a2109f3f7ae\")) {                    Plotly.newPlot(                        \"ca319469-e9a0-4f43-94fb-4a2109f3f7ae\",                        [{\"alignmentgroup\":\"True\",\"hovertemplate\":\"Country=%{x}\\u003cbr\\u003eAverage Salary (USD)=%{y}\\u003cextra\\u003e\\u003c\\u002fextra\\u003e\",\"legendgroup\":\"\",\"marker\":{\"color\":\"#636efa\",\"pattern\":{\"shape\":\"\"}},\"name\":\"\",\"offsetgroup\":\"\",\"orientation\":\"v\",\"showlegend\":false,\"textposition\":\"auto\",\"x\":[\"AE\",\"AF\",\"AQ\",\"AR\",\"AT\",\"AU\",\"AX\",\"AZ\",\"BA\",\"BE\",\"BR\",\"BW\",\"CA\",\"CH\",\"CL\",\"CY\",\"CZ\",\"DE\",\"DK\",\"DZ\",\"EE\",\"EG\",\"ES\",\"ET\",\"FR\",\"GB\",\"GR\",\"HR\",\"HU\",\"ID\",\"IE\",\"IL\",\"IN\",\"IT\",\"JP\",\"KE\",\"LU\",\"MX\",\"NL\",\"NO\",\"NZ\",\"PK\",\"PL\",\"PT\",\"RO\",\"RS\",\"RU\",\"SA\",\"SE\",\"SG\",\"SI\",\"TR\",\"TW\",\"UM\",\"US\",\"VN\",\"ZA\"],\"xaxis\":\"x\",\"y\":[170000.0,90000.0,58537.0,50666.666666666664,63240.0,128527.52380952382,50000.0,5800.0,12005.0,60768.0,47269.25,120000.0,119605.73770491804,122022.35714285714,50000.0,42801.0,42000.0,82350.85294117648,60427.166666666664,10100.0,47873.0,12800.0,52942.153846153844,2202.0,83318.0,112420.80327868853,30150.6,50000.0,47509.0,34303.0,79081.2,116414.33333333333,34249.82608695652,68911.625,91250.0,100000.0,49646.0,23029.0,75069.38461538461,100030.0,78282.8,20000.0,63850.8,48115.625,32513.75,80000.0,120691.0,100000.0,54598.5,125555.75,50340.75,35000.0,11812.0,95715.0,135559.56683937824,2000.0,39944.666666666664],\"yaxis\":\"y\",\"type\":\"bar\"}],                        {\"template\":{\"data\":{\"histogram2dcontour\":[{\"type\":\"histogram2dcontour\",\"colorbar\":{\"outlinewidth\":0,\"ticks\":\"\"},\"colorscale\":[[0.0,\"#0d0887\"],[0.1111111111111111,\"#46039f\"],[0.2222222222222222,\"#7201a8\"],[0.3333333333333333,\"#9c179e\"],[0.4444444444444444,\"#bd3786\"],[0.5555555555555556,\"#d8576b\"],[0.6666666666666666,\"#ed7953\"],[0.7777777777777778,\"#fb9f3a\"],[0.8888888888888888,\"#fdca26\"],[1.0,\"#f0f921\"]]}],\"choropleth\":[{\"type\":\"choropleth\",\"colorbar\":{\"outlinewidth\":0,\"ticks\":\"\"}}],\"histogram2d\":[{\"type\":\"histogram2d\",\"colorbar\":{\"outlinewidth\":0,\"ticks\":\"\"},\"colorscale\":[[0.0,\"#0d0887\"],[0.1111111111111111,\"#46039f\"],[0.2222222222222222,\"#7201a8\"],[0.3333333333333333,\"#9c179e\"],[0.4444444444444444,\"#bd3786\"],[0.5555555555555556,\"#d8576b\"],[0.6666666666666666,\"#ed7953\"],[0.7777777777777778,\"#fb9f3a\"],[0.8888888888888888,\"#fdca26\"],[1.0,\"#f0f921\"]]}],\"heatmap\":[{\"type\":\"heatmap\",\"colorbar\":{\"outlinewidth\":0,\"ticks\":\"\"},\"colorscale\":[[0.0,\"#0d0887\"],[0.1111111111111111,\"#46039f\"],[0.2222222222222222,\"#7201a8\"],[0.3333333333333333,\"#9c179e\"],[0.4444444444444444,\"#bd3786\"],[0.5555555555555556,\"#d8576b\"],[0.6666666666666666,\"#ed7953\"],[0.7777777777777778,\"#fb9f3a\"],[0.8888888888888888,\"#fdca26\"],[1.0,\"#f0f921\"]]}],\"heatmapgl\":[{\"type\":\"heatmapgl\",\"colorbar\":{\"outlinewidth\":0,\"ticks\":\"\"},\"colorscale\":[[0.0,\"#0d0887\"],[0.1111111111111111,\"#46039f\"],[0.2222222222222222,\"#7201a8\"],[0.3333333333333333,\"#9c179e\"],[0.4444444444444444,\"#bd3786\"],[0.5555555555555556,\"#d8576b\"],[0.6666666666666666,\"#ed7953\"],[0.7777777777777778,\"#fb9f3a\"],[0.8888888888888888,\"#fdca26\"],[1.0,\"#f0f921\"]]}],\"contourcarpet\":[{\"type\":\"contourcarpet\",\"colorbar\":{\"outlinewidth\":0,\"ticks\":\"\"}}],\"contour\":[{\"type\":\"contour\",\"colorbar\":{\"outlinewidth\":0,\"ticks\":\"\"},\"colorscale\":[[0.0,\"#0d0887\"],[0.1111111111111111,\"#46039f\"],[0.2222222222222222,\"#7201a8\"],[0.3333333333333333,\"#9c179e\"],[0.4444444444444444,\"#bd3786\"],[0.5555555555555556,\"#d8576b\"],[0.6666666666666666,\"#ed7953\"],[0.7777777777777778,\"#fb9f3a\"],[0.8888888888888888,\"#fdca26\"],[1.0,\"#f0f921\"]]}],\"surface\":[{\"type\":\"surface\",\"colorbar\":{\"outlinewidth\":0,\"ticks\":\"\"},\"colorscale\":[[0.0,\"#0d0887\"],[0.1111111111111111,\"#46039f\"],[0.2222222222222222,\"#7201a8\"],[0.3333333333333333,\"#9c179e\"],[0.4444444444444444,\"#bd3786\"],[0.5555555555555556,\"#d8576b\"],[0.6666666666666666,\"#ed7953\"],[0.7777777777777778,\"#fb9f3a\"],[0.8888888888888888,\"#fdca26\"],[1.0,\"#f0f921\"]]}],\"mesh3d\":[{\"type\":\"mesh3d\",\"colorbar\":{\"outlinewidth\":0,\"ticks\":\"\"}}],\"scatter\":[{\"fillpattern\":{\"fillmode\":\"overlay\",\"size\":10,\"solidity\":0.2},\"type\":\"scatter\"}],\"parcoords\":[{\"type\":\"parcoords\",\"line\":{\"colorbar\":{\"outlinewidth\":0,\"ticks\":\"\"}}}],\"scatterpolargl\":[{\"type\":\"scatterpolargl\",\"marker\":{\"colorbar\":{\"outlinewidth\":0,\"ticks\":\"\"}}}],\"bar\":[{\"error_x\":{\"color\":\"#2a3f5f\"},\"error_y\":{\"color\":\"#2a3f5f\"},\"marker\":{\"line\":{\"color\":\"#E5ECF6\",\"width\":0.5},\"pattern\":{\"fillmode\":\"overlay\",\"size\":10,\"solidity\":0.2}},\"type\":\"bar\"}],\"scattergeo\":[{\"type\":\"scattergeo\",\"marker\":{\"colorbar\":{\"outlinewidth\":0,\"ticks\":\"\"}}}],\"scatterpolar\":[{\"type\":\"scatterpolar\",\"marker\":{\"colorbar\":{\"outlinewidth\":0,\"ticks\":\"\"}}}],\"histogram\":[{\"marker\":{\"pattern\":{\"fillmode\":\"overlay\",\"size\":10,\"solidity\":0.2}},\"type\":\"histogram\"}],\"scattergl\":[{\"type\":\"scattergl\",\"marker\":{\"colorbar\":{\"outlinewidth\":0,\"ticks\":\"\"}}}],\"scatter3d\":[{\"type\":\"scatter3d\",\"line\":{\"colorbar\":{\"outlinewidth\":0,\"ticks\":\"\"}},\"marker\":{\"colorbar\":{\"outlinewidth\":0,\"ticks\":\"\"}}}],\"scattermapbox\":[{\"type\":\"scattermapbox\",\"marker\":{\"colorbar\":{\"outlinewidth\":0,\"ticks\":\"\"}}}],\"scatterternary\":[{\"type\":\"scatterternary\",\"marker\":{\"colorbar\":{\"outlinewidth\":0,\"ticks\":\"\"}}}],\"scattercarpet\":[{\"type\":\"scattercarpet\",\"marker\":{\"colorbar\":{\"outlinewidth\":0,\"ticks\":\"\"}}}],\"carpet\":[{\"aaxis\":{\"endlinecolor\":\"#2a3f5f\",\"gridcolor\":\"white\",\"linecolor\":\"white\",\"minorgridcolor\":\"white\",\"startlinecolor\":\"#2a3f5f\"},\"baxis\":{\"endlinecolor\":\"#2a3f5f\",\"gridcolor\":\"white\",\"linecolor\":\"white\",\"minorgridcolor\":\"white\",\"startlinecolor\":\"#2a3f5f\"},\"type\":\"carpet\"}],\"table\":[{\"cells\":{\"fill\":{\"color\":\"#EBF0F8\"},\"line\":{\"color\":\"white\"}},\"header\":{\"fill\":{\"color\":\"#C8D4E3\"},\"line\":{\"color\":\"white\"}},\"type\":\"table\"}],\"barpolar\":[{\"marker\":{\"line\":{\"color\":\"#E5ECF6\",\"width\":0.5},\"pattern\":{\"fillmode\":\"overlay\",\"size\":10,\"solidity\":0.2}},\"type\":\"barpolar\"}],\"pie\":[{\"automargin\":true,\"type\":\"pie\"}]},\"layout\":{\"autotypenumbers\":\"strict\",\"colorway\":[\"#636efa\",\"#EF553B\",\"#00cc96\",\"#ab63fa\",\"#FFA15A\",\"#19d3f3\",\"#FF6692\",\"#B6E880\",\"#FF97FF\",\"#FECB52\"],\"font\":{\"color\":\"#2a3f5f\"},\"hovermode\":\"closest\",\"hoverlabel\":{\"align\":\"left\"},\"paper_bgcolor\":\"white\",\"plot_bgcolor\":\"#E5ECF6\",\"polar\":{\"bgcolor\":\"#E5ECF6\",\"angularaxis\":{\"gridcolor\":\"white\",\"linecolor\":\"white\",\"ticks\":\"\"},\"radialaxis\":{\"gridcolor\":\"white\",\"linecolor\":\"white\",\"ticks\":\"\"}},\"ternary\":{\"bgcolor\":\"#E5ECF6\",\"aaxis\":{\"gridcolor\":\"white\",\"linecolor\":\"white\",\"ticks\":\"\"},\"baxis\":{\"gridcolor\":\"white\",\"linecolor\":\"white\",\"ticks\":\"\"},\"caxis\":{\"gridcolor\":\"white\",\"linecolor\":\"white\",\"ticks\":\"\"}},\"coloraxis\":{\"colorbar\":{\"outlinewidth\":0,\"ticks\":\"\"}},\"colorscale\":{\"sequential\":[[0.0,\"#0d0887\"],[0.1111111111111111,\"#46039f\"],[0.2222222222222222,\"#7201a8\"],[0.3333333333333333,\"#9c179e\"],[0.4444444444444444,\"#bd3786\"],[0.5555555555555556,\"#d8576b\"],[0.6666666666666666,\"#ed7953\"],[0.7777777777777778,\"#fb9f3a\"],[0.8888888888888888,\"#fdca26\"],[1.0,\"#f0f921\"]],\"sequentialminus\":[[0.0,\"#0d0887\"],[0.1111111111111111,\"#46039f\"],[0.2222222222222222,\"#7201a8\"],[0.3333333333333333,\"#9c179e\"],[0.4444444444444444,\"#bd3786\"],[0.5555555555555556,\"#d8576b\"],[0.6666666666666666,\"#ed7953\"],[0.7777777777777778,\"#fb9f3a\"],[0.8888888888888888,\"#fdca26\"],[1.0,\"#f0f921\"]],\"diverging\":[[0,\"#8e0152\"],[0.1,\"#c51b7d\"],[0.2,\"#de77ae\"],[0.3,\"#f1b6da\"],[0.4,\"#fde0ef\"],[0.5,\"#f7f7f7\"],[0.6,\"#e6f5d0\"],[0.7,\"#b8e186\"],[0.8,\"#7fbc41\"],[0.9,\"#4d9221\"],[1,\"#276419\"]]},\"xaxis\":{\"gridcolor\":\"white\",\"linecolor\":\"white\",\"ticks\":\"\",\"title\":{\"standoff\":15},\"zerolinecolor\":\"white\",\"automargin\":true,\"zerolinewidth\":2},\"yaxis\":{\"gridcolor\":\"white\",\"linecolor\":\"white\",\"ticks\":\"\",\"title\":{\"standoff\":15},\"zerolinecolor\":\"white\",\"automargin\":true,\"zerolinewidth\":2},\"scene\":{\"xaxis\":{\"backgroundcolor\":\"#E5ECF6\",\"gridcolor\":\"white\",\"linecolor\":\"white\",\"showbackground\":true,\"ticks\":\"\",\"zerolinecolor\":\"white\",\"gridwidth\":2},\"yaxis\":{\"backgroundcolor\":\"#E5ECF6\",\"gridcolor\":\"white\",\"linecolor\":\"white\",\"showbackground\":true,\"ticks\":\"\",\"zerolinecolor\":\"white\",\"gridwidth\":2},\"zaxis\":{\"backgroundcolor\":\"#E5ECF6\",\"gridcolor\":\"white\",\"linecolor\":\"white\",\"showbackground\":true,\"ticks\":\"\",\"zerolinecolor\":\"white\",\"gridwidth\":2}},\"shapedefaults\":{\"line\":{\"color\":\"#2a3f5f\"}},\"annotationdefaults\":{\"arrowcolor\":\"#2a3f5f\",\"arrowhead\":0,\"arrowwidth\":1},\"geo\":{\"bgcolor\":\"white\",\"landcolor\":\"#E5ECF6\",\"subunitcolor\":\"white\",\"showland\":true,\"showlakes\":true,\"lakecolor\":\"white\"},\"title\":{\"x\":0.05},\"mapbox\":{\"style\":\"light\"}}},\"xaxis\":{\"anchor\":\"y\",\"domain\":[0.0,1.0],\"title\":{\"text\":\"Country\"}},\"yaxis\":{\"anchor\":\"x\",\"domain\":[0.0,1.0],\"title\":{\"text\":\"Average Salary (USD)\"}},\"legend\":{\"tracegroupgap\":0},\"title\":{\"text\":\"Average Salary by Country\"},\"barmode\":\"relative\"},                        {\"responsive\": true}                    ).then(function(){\n",
       "                            \n",
       "var gd = document.getElementById('ca319469-e9a0-4f43-94fb-4a2109f3f7ae');\n",
       "var x = new MutationObserver(function (mutations, observer) {{\n",
       "        var display = window.getComputedStyle(gd).display;\n",
       "        if (!display || display === 'none') {{\n",
       "            console.log([gd, 'removed!']);\n",
       "            Plotly.purge(gd);\n",
       "            observer.disconnect();\n",
       "        }}\n",
       "}});\n",
       "\n",
       "// Listen for the removal of the full notebook cells\n",
       "var notebookContainer = gd.closest('#notebook-container');\n",
       "if (notebookContainer) {{\n",
       "    x.observe(notebookContainer, {childList: true});\n",
       "}}\n",
       "\n",
       "// Listen for the clearing of the current output cell\n",
       "var outputEl = gd.closest('.output');\n",
       "if (outputEl) {{\n",
       "    x.observe(outputEl, {childList: true});\n",
       "}}\n",
       "\n",
       "                        })                };                });            </script>        </div>"
      ]
     },
     "metadata": {},
     "output_type": "display_data"
    }
   ],
   "source": [
    "# Calculate average salary by country\n",
    "avg_salary_by_country = df.groupby(\"company_location\")[\"salary_in_usd\"].mean().reset_index()\n",
    "\n",
    "# Create bar plot\n",
    "fig = px.bar(avg_salary_by_country, x=\"company_location\", y=\"salary_in_usd\", title=\"Average Salary by Country\", labels={\"company_location\": \"Country\", \"salary_in_usd\": \"Average Salary (USD)\"})\n",
    "\n",
    "fig.update_layout(xaxis_title=\"Country\", yaxis_title=\"Average Salary (USD)\")\n",
    "\n",
    "fig.show()"
   ]
  }
 ],
 "metadata": {
  "kernelspec": {
   "display_name": "Python 3 (ipykernel)",
   "language": "python",
   "name": "python3"
  },
  "language_info": {
   "codemirror_mode": {
    "name": "ipython",
    "version": 3
   },
   "file_extension": ".py",
   "mimetype": "text/x-python",
   "name": "python",
   "nbconvert_exporter": "python",
   "pygments_lexer": "ipython3",
   "version": "3.11.7"
  }
 },
 "nbformat": 4,
 "nbformat_minor": 2
}
